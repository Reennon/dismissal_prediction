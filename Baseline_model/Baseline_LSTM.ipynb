{
  "nbformat": 4,
  "nbformat_minor": 0,
  "metadata": {
    "colab": {
      "name": "Baseline LSTM.ipynb",
      "provenance": [],
      "collapsed_sections": []
    },
    "kernelspec": {
      "name": "python3",
      "display_name": "Python 3"
    }
  },
  "cells": [
    {
      "cell_type": "code",
      "metadata": {
        "id": "MsJDKJAfjn0j",
        "colab_type": "code",
        "colab": {}
      },
      "source": [
        "import tensorflow\n",
        "tensorflow.random.set_seed(1)"
      ],
      "execution_count": 0,
      "outputs": []
    },
    {
      "cell_type": "code",
      "metadata": {
        "id": "Y7dX9eUDyPIH",
        "colab_type": "code",
        "colab": {}
      },
      "source": [
        "from numpy.random import seed\n",
        "\n",
        "seed(1)"
      ],
      "execution_count": 0,
      "outputs": []
    },
    {
      "cell_type": "code",
      "metadata": {
        "id": "4GQdqFyabfYA",
        "colab_type": "code",
        "colab": {
          "base_uri": "https://localhost:8080/",
          "height": 88
        },
        "outputId": "b345af53-ac8b-425b-87f7-412fe01c9201"
      },
      "source": [
        "import datetime as dt\n",
        "from dateutil.relativedelta import relativedelta\n",
        "\n",
        "import numpy as np\n",
        "import pandas as pd\n",
        "from sklearn.preprocessing import StandardScaler, MinMaxScaler\n",
        "from keras import backend as K\n",
        "import keras\n",
        "from keras.models import Model\n",
        "from keras.layers import Dense, Input, LSTM, Dropout, Bidirectional, TimeDistributed, Flatten, Masking\n",
        "from keras.optimizers import Adam, SGD\n",
        "from keras import initializers\n",
        "\n",
        "import matplotlib.pyplot as plt\n",
        "import seaborn as sns\n",
        "sns.set()"
      ],
      "execution_count": 2,
      "outputs": [
        {
          "output_type": "stream",
          "text": [
            "Using TensorFlow backend.\n",
            "/usr/local/lib/python3.6/dist-packages/statsmodels/tools/_testing.py:19: FutureWarning: pandas.util.testing is deprecated. Use the functions in the public API at pandas.testing instead.\n",
            "  import pandas.util.testing as tm\n"
          ],
          "name": "stderr"
        }
      ]
    },
    {
      "cell_type": "markdown",
      "metadata": {
        "id": "IjfqMMpC0qf1",
        "colab_type": "text"
      },
      "source": [
        "functions for loading from gdrive"
      ]
    },
    {
      "cell_type": "code",
      "metadata": {
        "id": "jpfd8MFs0ApY",
        "colab_type": "code",
        "colab": {},
        "cellView": "form"
      },
      "source": [
        "#@title\n",
        "import requests\n",
        "\n",
        "def download_file_from_google_drive(id, destination):\n",
        "    URL = \"https://docs.google.com/uc?export=download\"\n",
        "\n",
        "    session = requests.Session()\n",
        "\n",
        "    response = session.get(URL, params = { 'id' : id }, stream = True)\n",
        "    token = get_confirm_token(response)\n",
        "\n",
        "    if token:\n",
        "        params = { 'id' : id, 'confirm' : token }\n",
        "        response = session.get(URL, params = params, stream = True)\n",
        "\n",
        "    save_response_content(response, destination)    \n",
        "\n",
        "def get_confirm_token(response):\n",
        "    for key, value in response.cookies.items():\n",
        "        if key.startswith('download_warning'):\n",
        "            return value\n",
        "\n",
        "    return None\n",
        "\n",
        "def save_response_content(response, destination):\n",
        "    CHUNK_SIZE = 1000\n",
        "\n",
        "    with open(destination, \"wb\") as f:\n",
        "        for chunk in response.iter_content(CHUNK_SIZE):\n",
        "            if chunk: # filter out keep-alive new chunks\n",
        "                f.write(chunk)\n"
      ],
      "execution_count": 0,
      "outputs": []
    },
    {
      "cell_type": "code",
      "metadata": {
        "id": "Ujew5I3E035D",
        "colab_type": "code",
        "colab": {}
      },
      "source": [
        "history_file_id = '14G4k5wkgEXVV2jK3yY_NYahLdWxIvuzQ'\n",
        "download_file_from_google_drive(history_file_id, 'history.xlsx')\n",
        "\n",
        "hist_df = pd.read_excel('history.xlsx', sheet_name='in', index_col=0)"
      ],
      "execution_count": 0,
      "outputs": []
    },
    {
      "cell_type": "code",
      "metadata": {
        "id": "2XjLBbvqlGcd",
        "colab_type": "code",
        "colab": {
          "base_uri": "https://localhost:8080/",
          "height": 34
        },
        "outputId": "032b19fd-61b8-4172-b7ab-0d2a0e3f6534"
      },
      "source": [
        "hist_df[hist_df['DismissalDate'].isna() == False]['EmployeeID'].nunique()"
      ],
      "execution_count": 5,
      "outputs": [
        {
          "output_type": "execute_result",
          "data": {
            "text/plain": [
              "1256"
            ]
          },
          "metadata": {
            "tags": []
          },
          "execution_count": 5
        }
      ]
    },
    {
      "cell_type": "code",
      "metadata": {
        "id": "RqyRuHHCs0C9",
        "colab_type": "code",
        "colab": {
          "base_uri": "https://localhost:8080/",
          "height": 119
        },
        "outputId": "ec684423-7983-49d3-9151-20e5df384e21"
      },
      "source": [
        "hist_df[hist_df['DismissalDate'].isna() == False]['EmployeeID'].unique()"
      ],
      "execution_count": 6,
      "outputs": [
        {
          "output_type": "execute_result",
          "data": {
            "text/plain": [
              "array(['001502BB-B61A-404D-8A99-CC5DE5A4F985',\n",
              "       '003D7C3B-AEDE-4780-A7D8-17ACD32DABCC',\n",
              "       '0040B626-4578-4C4B-B3CB-42270CEAFF6C', ...,\n",
              "       'FF9D0956-E4DC-47D4-85BA-C0C3F852824B',\n",
              "       'FFA67FC0-7E99-489C-BE06-9AFB59A2A5D1',\n",
              "       'FFD9088A-0788-4BF0-ABCF-4D54E6CF31FC'], dtype=object)"
            ]
          },
          "metadata": {
            "tags": []
          },
          "execution_count": 6
        }
      ]
    },
    {
      "cell_type": "code",
      "metadata": {
        "id": "mzyp2WpQs5aP",
        "colab_type": "code",
        "colab": {
          "base_uri": "https://localhost:8080/",
          "height": 328
        },
        "outputId": "68343288-536b-4af5-b36f-b2f214b4c396"
      },
      "source": [
        "hist_df.groupby('EmployeeID').get_group('001502BB-B61A-404D-8A99-CC5DE5A4F985')[['Date', 'DismissalDate', 'diffs_between_dates', 'target']]"
      ],
      "execution_count": 7,
      "outputs": [
        {
          "output_type": "execute_result",
          "data": {
            "text/html": [
              "<div>\n",
              "<style scoped>\n",
              "    .dataframe tbody tr th:only-of-type {\n",
              "        vertical-align: middle;\n",
              "    }\n",
              "\n",
              "    .dataframe tbody tr th {\n",
              "        vertical-align: top;\n",
              "    }\n",
              "\n",
              "    .dataframe thead th {\n",
              "        text-align: right;\n",
              "    }\n",
              "</style>\n",
              "<table border=\"1\" class=\"dataframe\">\n",
              "  <thead>\n",
              "    <tr style=\"text-align: right;\">\n",
              "      <th></th>\n",
              "      <th>Date</th>\n",
              "      <th>DismissalDate</th>\n",
              "      <th>diffs_between_dates</th>\n",
              "      <th>target</th>\n",
              "    </tr>\n",
              "  </thead>\n",
              "  <tbody>\n",
              "    <tr>\n",
              "      <th>24</th>\n",
              "      <td>2017-07-01</td>\n",
              "      <td>2018-04-01</td>\n",
              "      <td>9</td>\n",
              "      <td>0</td>\n",
              "    </tr>\n",
              "    <tr>\n",
              "      <th>25</th>\n",
              "      <td>2017-08-01</td>\n",
              "      <td>2018-04-01</td>\n",
              "      <td>8</td>\n",
              "      <td>0</td>\n",
              "    </tr>\n",
              "    <tr>\n",
              "      <th>26</th>\n",
              "      <td>2017-09-01</td>\n",
              "      <td>2018-04-01</td>\n",
              "      <td>7</td>\n",
              "      <td>0</td>\n",
              "    </tr>\n",
              "    <tr>\n",
              "      <th>27</th>\n",
              "      <td>2017-10-01</td>\n",
              "      <td>2018-04-01</td>\n",
              "      <td>6</td>\n",
              "      <td>0</td>\n",
              "    </tr>\n",
              "    <tr>\n",
              "      <th>28</th>\n",
              "      <td>2017-11-01</td>\n",
              "      <td>2018-04-01</td>\n",
              "      <td>5</td>\n",
              "      <td>0</td>\n",
              "    </tr>\n",
              "    <tr>\n",
              "      <th>29</th>\n",
              "      <td>2017-12-01</td>\n",
              "      <td>2018-04-01</td>\n",
              "      <td>4</td>\n",
              "      <td>0</td>\n",
              "    </tr>\n",
              "    <tr>\n",
              "      <th>30</th>\n",
              "      <td>2018-01-01</td>\n",
              "      <td>2018-04-01</td>\n",
              "      <td>3</td>\n",
              "      <td>1</td>\n",
              "    </tr>\n",
              "    <tr>\n",
              "      <th>31</th>\n",
              "      <td>2018-02-01</td>\n",
              "      <td>2018-04-01</td>\n",
              "      <td>2</td>\n",
              "      <td>1</td>\n",
              "    </tr>\n",
              "    <tr>\n",
              "      <th>32</th>\n",
              "      <td>2018-03-01</td>\n",
              "      <td>2018-04-01</td>\n",
              "      <td>1</td>\n",
              "      <td>1</td>\n",
              "    </tr>\n",
              "  </tbody>\n",
              "</table>\n",
              "</div>"
            ],
            "text/plain": [
              "         Date DismissalDate  diffs_between_dates  target\n",
              "24 2017-07-01    2018-04-01                    9       0\n",
              "25 2017-08-01    2018-04-01                    8       0\n",
              "26 2017-09-01    2018-04-01                    7       0\n",
              "27 2017-10-01    2018-04-01                    6       0\n",
              "28 2017-11-01    2018-04-01                    5       0\n",
              "29 2017-12-01    2018-04-01                    4       0\n",
              "30 2018-01-01    2018-04-01                    3       1\n",
              "31 2018-02-01    2018-04-01                    2       1\n",
              "32 2018-03-01    2018-04-01                    1       1"
            ]
          },
          "metadata": {
            "tags": []
          },
          "execution_count": 7
        }
      ]
    },
    {
      "cell_type": "code",
      "metadata": {
        "id": "ZVMXeKEJtGGw",
        "colab_type": "code",
        "colab": {
          "base_uri": "https://localhost:8080/",
          "height": 638
        },
        "outputId": "ce5e9cee-efe0-4e40-919a-6c8ee3edf606"
      },
      "source": [
        "hist_df.groupby('EmployeeID').get_group('00FCA5BD-57A9-4776-ACC4-5C87AAE0981B')[['Date', 'DismissalDate', 'diffs_between_dates', 'target']]"
      ],
      "execution_count": 8,
      "outputs": [
        {
          "output_type": "execute_result",
          "data": {
            "text/html": [
              "<div>\n",
              "<style scoped>\n",
              "    .dataframe tbody tr th:only-of-type {\n",
              "        vertical-align: middle;\n",
              "    }\n",
              "\n",
              "    .dataframe tbody tr th {\n",
              "        vertical-align: top;\n",
              "    }\n",
              "\n",
              "    .dataframe thead th {\n",
              "        text-align: right;\n",
              "    }\n",
              "</style>\n",
              "<table border=\"1\" class=\"dataframe\">\n",
              "  <thead>\n",
              "    <tr style=\"text-align: right;\">\n",
              "      <th></th>\n",
              "      <th>Date</th>\n",
              "      <th>DismissalDate</th>\n",
              "      <th>diffs_between_dates</th>\n",
              "      <th>target</th>\n",
              "    </tr>\n",
              "  </thead>\n",
              "  <tbody>\n",
              "    <tr>\n",
              "      <th>0</th>\n",
              "      <td>2017-07-01</td>\n",
              "      <td>2019-02-01</td>\n",
              "      <td>19</td>\n",
              "      <td>0</td>\n",
              "    </tr>\n",
              "    <tr>\n",
              "      <th>1</th>\n",
              "      <td>2017-08-01</td>\n",
              "      <td>2019-02-01</td>\n",
              "      <td>18</td>\n",
              "      <td>0</td>\n",
              "    </tr>\n",
              "    <tr>\n",
              "      <th>2</th>\n",
              "      <td>2017-09-01</td>\n",
              "      <td>2019-02-01</td>\n",
              "      <td>17</td>\n",
              "      <td>0</td>\n",
              "    </tr>\n",
              "    <tr>\n",
              "      <th>3</th>\n",
              "      <td>2017-10-01</td>\n",
              "      <td>2019-02-01</td>\n",
              "      <td>16</td>\n",
              "      <td>0</td>\n",
              "    </tr>\n",
              "    <tr>\n",
              "      <th>4</th>\n",
              "      <td>2017-11-01</td>\n",
              "      <td>2019-02-01</td>\n",
              "      <td>15</td>\n",
              "      <td>0</td>\n",
              "    </tr>\n",
              "    <tr>\n",
              "      <th>5</th>\n",
              "      <td>2017-12-01</td>\n",
              "      <td>2019-02-01</td>\n",
              "      <td>14</td>\n",
              "      <td>0</td>\n",
              "    </tr>\n",
              "    <tr>\n",
              "      <th>6</th>\n",
              "      <td>2018-01-01</td>\n",
              "      <td>2019-02-01</td>\n",
              "      <td>13</td>\n",
              "      <td>0</td>\n",
              "    </tr>\n",
              "    <tr>\n",
              "      <th>7</th>\n",
              "      <td>2018-02-01</td>\n",
              "      <td>2019-02-01</td>\n",
              "      <td>12</td>\n",
              "      <td>0</td>\n",
              "    </tr>\n",
              "    <tr>\n",
              "      <th>8</th>\n",
              "      <td>2018-03-01</td>\n",
              "      <td>2019-02-01</td>\n",
              "      <td>11</td>\n",
              "      <td>0</td>\n",
              "    </tr>\n",
              "    <tr>\n",
              "      <th>9</th>\n",
              "      <td>2018-04-01</td>\n",
              "      <td>2019-02-01</td>\n",
              "      <td>10</td>\n",
              "      <td>0</td>\n",
              "    </tr>\n",
              "    <tr>\n",
              "      <th>10</th>\n",
              "      <td>2018-05-01</td>\n",
              "      <td>2019-02-01</td>\n",
              "      <td>9</td>\n",
              "      <td>0</td>\n",
              "    </tr>\n",
              "    <tr>\n",
              "      <th>11</th>\n",
              "      <td>2018-06-01</td>\n",
              "      <td>2019-02-01</td>\n",
              "      <td>8</td>\n",
              "      <td>0</td>\n",
              "    </tr>\n",
              "    <tr>\n",
              "      <th>12</th>\n",
              "      <td>2018-07-01</td>\n",
              "      <td>2019-02-01</td>\n",
              "      <td>7</td>\n",
              "      <td>0</td>\n",
              "    </tr>\n",
              "    <tr>\n",
              "      <th>13</th>\n",
              "      <td>2018-08-01</td>\n",
              "      <td>2019-02-01</td>\n",
              "      <td>6</td>\n",
              "      <td>0</td>\n",
              "    </tr>\n",
              "    <tr>\n",
              "      <th>14</th>\n",
              "      <td>2018-09-01</td>\n",
              "      <td>2019-02-01</td>\n",
              "      <td>5</td>\n",
              "      <td>0</td>\n",
              "    </tr>\n",
              "    <tr>\n",
              "      <th>15</th>\n",
              "      <td>2018-10-01</td>\n",
              "      <td>2019-02-01</td>\n",
              "      <td>4</td>\n",
              "      <td>0</td>\n",
              "    </tr>\n",
              "    <tr>\n",
              "      <th>16</th>\n",
              "      <td>2018-11-01</td>\n",
              "      <td>2019-02-01</td>\n",
              "      <td>3</td>\n",
              "      <td>1</td>\n",
              "    </tr>\n",
              "    <tr>\n",
              "      <th>17</th>\n",
              "      <td>2018-12-01</td>\n",
              "      <td>2019-02-01</td>\n",
              "      <td>2</td>\n",
              "      <td>1</td>\n",
              "    </tr>\n",
              "    <tr>\n",
              "      <th>18</th>\n",
              "      <td>2019-01-01</td>\n",
              "      <td>2019-02-01</td>\n",
              "      <td>1</td>\n",
              "      <td>1</td>\n",
              "    </tr>\n",
              "  </tbody>\n",
              "</table>\n",
              "</div>"
            ],
            "text/plain": [
              "         Date DismissalDate  diffs_between_dates  target\n",
              "0  2017-07-01    2019-02-01                   19       0\n",
              "1  2017-08-01    2019-02-01                   18       0\n",
              "2  2017-09-01    2019-02-01                   17       0\n",
              "3  2017-10-01    2019-02-01                   16       0\n",
              "4  2017-11-01    2019-02-01                   15       0\n",
              "5  2017-12-01    2019-02-01                   14       0\n",
              "6  2018-01-01    2019-02-01                   13       0\n",
              "7  2018-02-01    2019-02-01                   12       0\n",
              "8  2018-03-01    2019-02-01                   11       0\n",
              "9  2018-04-01    2019-02-01                   10       0\n",
              "10 2018-05-01    2019-02-01                    9       0\n",
              "11 2018-06-01    2019-02-01                    8       0\n",
              "12 2018-07-01    2019-02-01                    7       0\n",
              "13 2018-08-01    2019-02-01                    6       0\n",
              "14 2018-09-01    2019-02-01                    5       0\n",
              "15 2018-10-01    2019-02-01                    4       0\n",
              "16 2018-11-01    2019-02-01                    3       1\n",
              "17 2018-12-01    2019-02-01                    2       1\n",
              "18 2019-01-01    2019-02-01                    1       1"
            ]
          },
          "metadata": {
            "tags": []
          },
          "execution_count": 8
        }
      ]
    },
    {
      "cell_type": "code",
      "metadata": {
        "id": "YnPcPzck3dYj",
        "colab_type": "code",
        "colab": {
          "base_uri": "https://localhost:8080/",
          "height": 578
        },
        "outputId": "7520631d-fda6-4e90-b96d-60a75e8214f1"
      },
      "source": [
        "hist_df.isna().sum()"
      ],
      "execution_count": 9,
      "outputs": [
        {
          "output_type": "execute_result",
          "data": {
            "text/plain": [
              "EmployeeID                 0\n",
              "Date                       0\n",
              "DevCenterID                0\n",
              "SBUID                      0\n",
              "PositionID                 0\n",
              "PositionLevel              0\n",
              "IsTrainee                  0\n",
              "LanguageLevelID            0\n",
              "CustomerID                 0\n",
              "ProjectID               5827\n",
              "IsInternalProject          0\n",
              "Utilization                0\n",
              "HourVacation               0\n",
              "HourSickness               0\n",
              "HourMobileReserve          0\n",
              "HourLockedReserve          0\n",
              "OnSite                     0\n",
              "CompetenceGroupID          0\n",
              "FunctionalOfficeID         0\n",
              "PaymentTypeId              0\n",
              "BonusOneTime               0\n",
              "APM                        0\n",
              "WageGross                  0\n",
              "HiringDate                 0\n",
              "DismissalDate          72039\n",
              "MonthOnPosition            0\n",
              "MonthOnSalary              0\n",
              "Quarter                    0\n",
              "diffs_between_dates        0\n",
              "Hired                      0\n",
              "Dismissed                  0\n",
              "target                     0\n",
              "dtype: int64"
            ]
          },
          "metadata": {
            "tags": []
          },
          "execution_count": 9
        }
      ]
    },
    {
      "cell_type": "markdown",
      "metadata": {
        "id": "cI0nJYXI3_jl",
        "colab_type": "text"
      },
      "source": [
        "Fill missing values in ProjectID col with 'missing' "
      ]
    },
    {
      "cell_type": "code",
      "metadata": {
        "id": "tnapv3Na38dz",
        "colab_type": "code",
        "colab": {}
      },
      "source": [
        "hist_df['ProjectID'] = hist_df['ProjectID'].fillna('missing')"
      ],
      "execution_count": 0,
      "outputs": []
    },
    {
      "cell_type": "code",
      "metadata": {
        "id": "hZapu3VK4CsX",
        "colab_type": "code",
        "colab": {
          "base_uri": "https://localhost:8080/",
          "height": 1000
        },
        "outputId": "be336aa2-9b52-44da-9a3e-c06e5a4c9ad1"
      },
      "source": [
        "for col in list(hist_df.drop(['EmployeeID', 'Date', 'HiringDate', 'DismissalDate'], axis=1).columns):\n",
        "  print(col)\n",
        "  plt.hist(hist_df[col], density=True)\n",
        "  plt.show()"
      ],
      "execution_count": 9,
      "outputs": [
        {
          "output_type": "stream",
          "text": [
            "DevCenterID\n"
          ],
          "name": "stdout"
        },
        {
          "output_type": "display_data",
          "data": {
            "image/png": "[encoded data removed]",
            "text/plain": [
              "<Figure size 432x288 with 1 Axes>"
            ]
          },
          "metadata": {
            "tags": []
          }
        },
        {
          "output_type": "stream",
          "text": [
            "SBUID\n"
          ],
          "name": "stdout"
        },
        {
          "output_type": "display_data",
          "data": {
            "image/png": "[encoded data removed]",
            "text/plain": [
              "<Figure size 432x288 with 1 Axes>"
            ]
          },
          "metadata": {
            "tags": []
          }
        },
        {
          "output_type": "stream",
          "text": [
            "PositionID\n"
          ],
          "name": "stdout"
        },
        {
          "output_type": "display_data",
          "data": {
            "image/png": "[encoded data removed]",
            "text/plain": [
              "<Figure size 432x288 with 1 Axes>"
            ]
          },
          "metadata": {
            "tags": []
          }
        },
        {
          "output_type": "stream",
          "text": [
            "PositionLevel\n"
          ],
          "name": "stdout"
        },
        {
          "output_type": "display_data",
          "data": {
            "image/png": "[encoded data removed]",
            "text/plain": [
              "<Figure size 432x288 with 1 Axes>"
            ]
          },
          "metadata": {
            "tags": []
          }
        },
        {
          "output_type": "stream",
          "text": [
            "IsTrainee\n"
          ],
          "name": "stdout"
        },
        {
          "output_type": "display_data",
          "data": {
            "image/png": "[encoded data removed]",
            "text/plain": [
              "<Figure size 432x288 with 1 Axes>"
            ]
          },
          "metadata": {
            "tags": []
          }
        },
        {
          "output_type": "stream",
          "text": [
            "LanguageLevelID\n"
          ],
          "name": "stdout"
        },
        {
          "output_type": "display_data",
          "data": {
            "image/png": "[encoded data removed]",
            "text/plain": [
              "<Figure size 432x288 with 1 Axes>"
            ]
          },
          "metadata": {
            "tags": []
          }
        },
        {
          "output_type": "stream",
          "text": [
            "CustomerID\n"
          ],
          "name": "stdout"
        },
        {
          "output_type": "display_data",
          "data": {
            "image/png": "[encoded data removed]",
            "text/plain": [
              "<Figure size 432x288 with 1 Axes>"
            ]
          },
          "metadata": {
            "tags": []
          }
        },
        {
          "output_type": "stream",
          "text": [
            "ProjectID\n"
          ],
          "name": "stdout"
        },
        {
          "output_type": "display_data",
          "data": {
            "image/png": "[encoded data removed]",
            "text/plain": [
              "<Figure size 432x288 with 1 Axes>"
            ]
          },
          "metadata": {
            "tags": []
          }
        },
        {
          "output_type": "stream",
          "text": [
            "IsInternalProject\n"
          ],
          "name": "stdout"
        },
        {
          "output_type": "display_data",
          "data": {
            "image/png": "[encoded data removed]",
            "text/plain": [
              "<Figure size 432x288 with 1 Axes>"
            ]
          },
          "metadata": {
            "tags": []
          }
        },
        {
          "output_type": "stream",
          "text": [
            "Utilization\n"
          ],
          "name": "stdout"
        },
        {
          "output_type": "display_data",
          "data": {
            "image/png": "[encoded data removed]",
            "text/plain": [
              "<Figure size 432x288 with 1 Axes>"
            ]
          },
          "metadata": {
            "tags": []
          }
        },
        {
          "output_type": "stream",
          "text": [
            "HourVacation\n"
          ],
          "name": "stdout"
        },
        {
          "output_type": "display_data",
          "data": {
            "image/png": "[encoded data removed]",
            "text/plain": [
              "<Figure size 432x288 with 1 Axes>"
            ]
          },
          "metadata": {
            "tags": []
          }
        },
        {
          "output_type": "stream",
          "text": [
            "HourSickness\n"
          ],
          "name": "stdout"
        },
        {
          "output_type": "display_data",
          "data": {
            "image/png": "[encoded data removed]",
            "text/plain": [
              "<Figure size 432x288 with 1 Axes>"
            ]
          },
          "metadata": {
            "tags": []
          }
        },
        {
          "output_type": "stream",
          "text": [
            "HourMobileReserve\n"
          ],
          "name": "stdout"
        },
        {
          "output_type": "display_data",
          "data": {
            "image/png": "[encoded data removed]",
            "text/plain": [
              "<Figure size 432x288 with 1 Axes>"
            ]
          },
          "metadata": {
            "tags": []
          }
        },
        {
          "output_type": "stream",
          "text": [
            "HourLockedReserve\n"
          ],
          "name": "stdout"
        },
        {
          "output_type": "display_data",
          "data": {
            "image/png": "[encoded data removed]",
            "text/plain": [
              "<Figure size 432x288 with 1 Axes>"
            ]
          },
          "metadata": {
            "tags": []
          }
        },
        {
          "output_type": "stream",
          "text": [
            "OnSite\n"
          ],
          "name": "stdout"
        },
        {
          "output_type": "display_data",
          "data": {
            "image/png": "[encoded data removed]",
            "text/plain": [
              "<Figure size 432x288 with 1 Axes>"
            ]
          },
          "metadata": {
            "tags": []
          }
        },
        {
          "output_type": "stream",
          "text": [
            "CompetenceGroupID\n"
          ],
          "name": "stdout"
        },
        {
          "output_type": "display_data",
          "data": {
            "image/png": "[encoded data removed]",
            "text/plain": [
              "<Figure size 432x288 with 1 Axes>"
            ]
          },
          "metadata": {
            "tags": []
          }
        },
        {
          "output_type": "stream",
          "text": [
            "FunctionalOfficeID\n"
          ],
          "name": "stdout"
        },
        {
          "output_type": "display_data",
          "data": {
            "image/png": "[encoded data removed]",
            "text/plain": [
              "<Figure size 432x288 with 1 Axes>"
            ]
          },
          "metadata": {
            "tags": []
          }
        },
        {
          "output_type": "stream",
          "text": [
            "PaymentTypeId\n"
          ],
          "name": "stdout"
        },
        {
          "output_type": "display_data",
          "data": {
            "image/png": "[encoded data removed]",
            "text/plain": [
              "<Figure size 432x288 with 1 Axes>"
            ]
          },
          "metadata": {
            "tags": []
          }
        },
        {
          "output_type": "stream",
          "text": [
            "BonusOneTime\n"
          ],
          "name": "stdout"
        },
        {
          "output_type": "display_data",
          "data": {
            "image/png": "[encoded data removed]",
            "text/plain": [
              "<Figure size 432x288 with 1 Axes>"
            ]
          },
          "metadata": {
            "tags": []
          }
        },
        {
          "output_type": "stream",
          "text": [
            "APM\n"
          ],
          "name": "stdout"
        },
        {
          "output_type": "display_data",
          "data": {
            "image/png": "[encoded data removed]",
            "text/plain": [
              "<Figure size 432x288 with 1 Axes>"
            ]
          },
          "metadata": {
            "tags": []
          }
        },
        {
          "output_type": "stream",
          "text": [
            "WageGross\n"
          ],
          "name": "stdout"
        },
        {
          "output_type": "display_data",
          "data": {
            "image/png": "[encoded data removed]",
            "text/plain": [
              "<Figure size 432x288 with 1 Axes>"
            ]
          },
          "metadata": {
            "tags": []
          }
        },
        {
          "output_type": "stream",
          "text": [
            "Hired\n"
          ],
          "name": "stdout"
        },
        {
          "output_type": "display_data",
          "data": {
            "image/png": "[encoded data removed]",
            "text/plain": [
              "<Figure size 432x288 with 1 Axes>"
            ]
          },
          "metadata": {
            "tags": []
          }
        },
        {
          "output_type": "stream",
          "text": [
            "Dismissed\n"
          ],
          "name": "stdout"
        },
        {
          "output_type": "display_data",
          "data": {
            "image/png": "[encoded data removed]",
            "text/plain": [
              "<Figure size 432x288 with 1 Axes>"
            ]
          },
          "metadata": {
            "tags": []
          }
        },
        {
          "output_type": "stream",
          "text": [
            "MonthOnPosition\n"
          ],
          "name": "stdout"
        },
        {
          "output_type": "display_data",
          "data": {
            "image/png": "[encoded data removed]",
            "text/plain": [
              "<Figure size 432x288 with 1 Axes>"
            ]
          },
          "metadata": {
            "tags": []
          }
        },
        {
          "output_type": "stream",
          "text": [
            "MonthOnSalary\n"
          ],
          "name": "stdout"
        },
        {
          "output_type": "display_data",
          "data": {
            "image/png": "[encoded data removed]",
            "text/plain": [
              "<Figure size 432x288 with 1 Axes>"
            ]
          },
          "metadata": {
            "tags": []
          }
        },
        {
          "output_type": "stream",
          "text": [
            "Quarter\n"
          ],
          "name": "stdout"
        },
        {
          "output_type": "display_data",
          "data": {
            "image/png": "[encoded data removed]",
            "text/plain": [
              "<Figure size 432x288 with 1 Axes>"
            ]
          },
          "metadata": {
            "tags": []
          }
        },
        {
          "output_type": "stream",
          "text": [
            "diffs_between_dates\n"
          ],
          "name": "stdout"
        },
        {
          "output_type": "display_data",
          "data": {
            "image/png": "[encoded data removed]",
            "text/plain": [
              "<Figure size 432x288 with 1 Axes>"
            ]
          },
          "metadata": {
            "tags": []
          }
        },
        {
          "output_type": "stream",
          "text": [
            "target\n"
          ],
          "name": "stdout"
        },
        {
          "output_type": "display_data",
          "data": {
            "image/png": "[encoded data removed]",
            "text/plain": [
              "<Figure size 432x288 with 1 Axes>"
            ]
          },
          "metadata": {
            "tags": []
          }
        }
      ]
    },
    {
      "cell_type": "code",
      "metadata": {
        "id": "jfwiGX3X4KoZ",
        "colab_type": "code",
        "colab": {
          "base_uri": "https://localhost:8080/",
          "height": 703
        },
        "outputId": "169a7ff0-6bbf-4598-cf99-cc05822ee0e7"
      },
      "source": [
        "fig = plt.subplots(figsize=(15,10))\n",
        "sns.heatmap(hist_df.corr(), cmap='Blues')\n",
        "plt.show()"
      ],
      "execution_count": 10,
      "outputs": [
        {
          "output_type": "display_data",
          "data": {
            "image/png": "[encoded data removed]",
            "text/plain": [
              "<Figure size 1080x720 with 2 Axes>"
            ]
          },
          "metadata": {
            "tags": []
          }
        }
      ]
    },
    {
      "cell_type": "markdown",
      "metadata": {
        "id": "TV4zTN5345am",
        "colab_type": "text"
      },
      "source": [
        "#### Process Features"
      ]
    },
    {
      "cell_type": "code",
      "metadata": {
        "id": "WU_p7XyV49V1",
        "colab_type": "code",
        "colab": {}
      },
      "source": [
        "# number of employees in dev center / total number of employees per date\n",
        "DevCenterID_mapping = hist_df.groupby(['DevCenterID', 'Date'])['EmployeeID'].count() / hist_df.groupby(['Date'])['EmployeeID'].count()\n",
        "DevCenterID_mapping = DevCenterID_mapping.reset_index(level=['DevCenterID',\t'Date']).rename(columns={'EmployeeID':'DevCenter_count'})\n",
        "hist_df = pd.merge(hist_df, DevCenterID_mapping, on=['DevCenterID',\t'Date'], how='left')"
      ],
      "execution_count": 0,
      "outputs": []
    },
    {
      "cell_type": "code",
      "metadata": {
        "id": "9z6LuNG05Bp7",
        "colab_type": "code",
        "colab": {}
      },
      "source": [
        "# number of employees in SBUID / total number of employees per date\n",
        "SBUID_mapping = hist_df.groupby(['SBUID', 'Date'])['EmployeeID'].count() / hist_df.groupby(['Date'])['EmployeeID'].count()\n",
        "SBUID_mapping = SBUID_mapping.reset_index(level=['SBUID',\t'Date']).rename(columns={'EmployeeID':'SBUID_count'})\n",
        "hist_df = pd.merge(hist_df, SBUID_mapping, on=['SBUID',\t'Date'], how='left')"
      ],
      "execution_count": 0,
      "outputs": []
    },
    {
      "cell_type": "code",
      "metadata": {
        "id": "TCRqwpzt5EC5",
        "colab_type": "code",
        "colab": {}
      },
      "source": [
        "# number of employees in CompetenceGroupID senter / total number of employees per date\n",
        "CompetenceGroupID_mapping = hist_df.groupby(['CompetenceGroupID', 'Date'])['EmployeeID'].count() / hist_df.groupby(['Date'])['EmployeeID'].count()\n",
        "CompetenceGroupID_mapping = CompetenceGroupID_mapping.reset_index(level=['CompetenceGroupID',\t'Date']).rename(columns={'EmployeeID':'CompetenceGroupID_count'})\n",
        "hist_df = pd.merge(hist_df, CompetenceGroupID_mapping, on=['CompetenceGroupID',\t'Date'], how='left')"
      ],
      "execution_count": 0,
      "outputs": []
    },
    {
      "cell_type": "code",
      "metadata": {
        "id": "dTCTpl5n5GX2",
        "colab_type": "code",
        "colab": {}
      },
      "source": [
        "# number of employees in FunctionalOfficeID / total number of employees per date\n",
        "FunctionalOfficeID_mapping = hist_df.groupby(['FunctionalOfficeID', 'Date'])['EmployeeID'].count() / hist_df.groupby(['Date'])['EmployeeID'].count()\n",
        "FunctionalOfficeID_mapping = FunctionalOfficeID_mapping.reset_index(level=['FunctionalOfficeID',\t'Date']).rename(columns={'EmployeeID':'FunctionalOfficeID_count'})\n",
        "hist_df = pd.merge(hist_df, FunctionalOfficeID_mapping, on=['FunctionalOfficeID',\t'Date'], how='left')"
      ],
      "execution_count": 0,
      "outputs": []
    },
    {
      "cell_type": "code",
      "metadata": {
        "id": "cVuIjjE_5JK4",
        "colab_type": "code",
        "colab": {}
      },
      "source": [
        "# number of employees with PositionID / total number of employees per date\n",
        "PositionID_mapping = hist_df.groupby(['PositionID', 'Date'])['EmployeeID'].count() / hist_df.groupby(['Date'])['EmployeeID'].count()\n",
        "PositionID_mapping = PositionID_mapping.reset_index(level=['PositionID',\t'Date']).rename(columns={'EmployeeID':'PositionID_count'})\n",
        "hist_df = pd.merge(hist_df, PositionID_mapping, on=['PositionID',\t'Date'], how='left')"
      ],
      "execution_count": 0,
      "outputs": []
    },
    {
      "cell_type": "code",
      "metadata": {
        "id": "sSrxsamG5LNm",
        "colab_type": "code",
        "colab": {}
      },
      "source": [
        "# number of employees with PaymentTypeId / total number of employees per date\n",
        "PaymentTypeId_mapping = hist_df.groupby(['PaymentTypeId', 'Date'])['EmployeeID'].count() / hist_df.groupby(['Date'])['EmployeeID'].count()\n",
        "PaymentTypeId_mapping = PaymentTypeId_mapping.reset_index(level=['PaymentTypeId',\t'Date']).rename(columns={'EmployeeID':'PaymentTypeId_count'})\n",
        "hist_df = pd.merge(hist_df, PaymentTypeId_mapping, on=['PaymentTypeId',\t'Date'], how='left')"
      ],
      "execution_count": 0,
      "outputs": []
    },
    {
      "cell_type": "code",
      "metadata": {
        "id": "UK77KfyY5NBC",
        "colab_type": "code",
        "colab": {}
      },
      "source": [
        "# number of projects of customer / total number of projects per date\n",
        "CustomerID_mapping = hist_df.groupby(['CustomerID', 'Date'])['ProjectID'].count() / hist_df.groupby(['Date'])['ProjectID'].count()\n",
        "CustomerID_mapping = CustomerID_mapping.reset_index(level=['CustomerID',\t'Date']).rename(columns={'ProjectID':'CustomerID_count'})\n",
        "hist_df = pd.merge(hist_df, CustomerID_mapping, on=['CustomerID',\t'Date'], how='left')"
      ],
      "execution_count": 0,
      "outputs": []
    },
    {
      "cell_type": "code",
      "metadata": {
        "id": "0nFEX56I5O1T",
        "colab_type": "code",
        "colab": {}
      },
      "source": [
        "# number of projects of customer / total number of projects per date\n",
        "ProjectID_mapping = hist_df.groupby(['ProjectID', 'Date'])['EmployeeID'].count() / hist_df.groupby(['Date'])['EmployeeID'].count()\n",
        "ProjectID_mapping = ProjectID_mapping.reset_index(level=['ProjectID',\t'Date']).rename(columns={'EmployeeID':'ProjectID_count'})\n",
        "hist_df = pd.merge(hist_df, ProjectID_mapping, on=['ProjectID',\t'Date'], how='left')"
      ],
      "execution_count": 0,
      "outputs": []
    },
    {
      "cell_type": "markdown",
      "metadata": {
        "id": "VALruKZK-2jt",
        "colab_type": "text"
      },
      "source": [
        "Fix date"
      ]
    },
    {
      "cell_type": "code",
      "metadata": {
        "id": "g69PLbjf9xv6",
        "colab_type": "code",
        "colab": {
          "base_uri": "https://localhost:8080/",
          "height": 34
        },
        "outputId": "47e733bf-028b-49e0-dc9a-007a26c39e9d"
      },
      "source": [
        "hist_df['Date'] = pd.to_datetime(hist_df['Date'], format='%Y-%m-%d')\n",
        "hist_df['DismissalDate'] = pd.to_datetime(hist_df['DismissalDate'], format='%Y-%m-%d')\n",
        "hist_df['HiringDate'] = pd.to_datetime(hist_df['HiringDate'], format='%Y-%m-%d')\n",
        "\n",
        "#number of dismissed employees\n",
        "hist_df[hist_df['DismissalDate'].isna() == False]['EmployeeID'].nunique()"
      ],
      "execution_count": 19,
      "outputs": [
        {
          "output_type": "execute_result",
          "data": {
            "text/plain": [
              "1256"
            ]
          },
          "metadata": {
            "tags": []
          },
          "execution_count": 19
        }
      ]
    },
    {
      "cell_type": "code",
      "metadata": {
        "id": "W-uICL7r-1Z7",
        "colab_type": "code",
        "colab": {}
      },
      "source": [
        "def calc_relative_monthonposition(x):\n",
        "  # month on position calculates as for the end of month that's why x['Date'].dt.month + 1\n",
        "  # hiring_date = empl_df[empl_df['EmployeeID'] == x['EmployeeID'][0]]['HiringDate'].item()\n",
        "  hiring_date = x['HiringDate'].item()\n",
        "  series = x['MonthOnPosition'] / ((x['Date'].dt.year - hiring_date.year) * 12 + (x['Date'].dt.month + 1 - hiring_date.month))\n",
        "  series = series.rename(\"MonthOnPosition_relative\") \n",
        "  return series"
      ],
      "execution_count": 0,
      "outputs": []
    },
    {
      "cell_type": "code",
      "metadata": {
        "id": "QzrMlVS66P7X",
        "colab_type": "code",
        "colab": {}
      },
      "source": [
        "monthonposition_mapping = hist_df.groupby(['EmployeeID', 'Date', 'MonthOnPosition']).apply(calc_relative_monthonposition).reset_index(level=['EmployeeID', 'Date', 'MonthOnPosition'])\n",
        "hist_df = pd.merge(hist_df, monthonposition_mapping, on=['EmployeeID', 'Date', 'MonthOnPosition'], how='left')"
      ],
      "execution_count": 0,
      "outputs": []
    },
    {
      "cell_type": "code",
      "metadata": {
        "id": "gNHOojRFTtqR",
        "colab_type": "code",
        "colab": {
          "base_uri": "https://localhost:8080/",
          "height": 69
        },
        "outputId": "71846137-270d-4003-8670-62eb770614d8"
      },
      "source": [
        "hist_df[hist_df['MonthOnPosition_relative'].isin([np.inf])]"
      ],
      "execution_count": 22,
      "outputs": [
        {
          "output_type": "execute_result",
          "data": {
            "text/html": [
              "<div>\n",
              "<style scoped>\n",
              "    .dataframe tbody tr th:only-of-type {\n",
              "        vertical-align: middle;\n",
              "    }\n",
              "\n",
              "    .dataframe tbody tr th {\n",
              "        vertical-align: top;\n",
              "    }\n",
              "\n",
              "    .dataframe thead th {\n",
              "        text-align: right;\n",
              "    }\n",
              "</style>\n",
              "<table border=\"1\" class=\"dataframe\">\n",
              "  <thead>\n",
              "    <tr style=\"text-align: right;\">\n",
              "      <th></th>\n",
              "      <th>EmployeeID</th>\n",
              "      <th>Date</th>\n",
              "      <th>DevCenterID</th>\n",
              "      <th>SBUID</th>\n",
              "      <th>PositionID</th>\n",
              "      <th>PositionLevel</th>\n",
              "      <th>IsTrainee</th>\n",
              "      <th>LanguageLevelID</th>\n",
              "      <th>CustomerID</th>\n",
              "      <th>ProjectID</th>\n",
              "      <th>IsInternalProject</th>\n",
              "      <th>Utilization</th>\n",
              "      <th>HourVacation</th>\n",
              "      <th>HourSickness</th>\n",
              "      <th>HourMobileReserve</th>\n",
              "      <th>HourLockedReserve</th>\n",
              "      <th>OnSite</th>\n",
              "      <th>CompetenceGroupID</th>\n",
              "      <th>FunctionalOfficeID</th>\n",
              "      <th>PaymentTypeId</th>\n",
              "      <th>BonusOneTime</th>\n",
              "      <th>APM</th>\n",
              "      <th>WageGross</th>\n",
              "      <th>HiringDate</th>\n",
              "      <th>DismissalDate</th>\n",
              "      <th>MonthOnPosition</th>\n",
              "      <th>MonthOnSalary</th>\n",
              "      <th>Quarter</th>\n",
              "      <th>diffs_between_dates</th>\n",
              "      <th>Hired</th>\n",
              "      <th>Dismissed</th>\n",
              "      <th>target</th>\n",
              "      <th>DevCenter_count</th>\n",
              "      <th>SBUID_count</th>\n",
              "      <th>CompetenceGroupID_count</th>\n",
              "      <th>FunctionalOfficeID_count</th>\n",
              "      <th>PositionID_count</th>\n",
              "      <th>PaymentTypeId_count</th>\n",
              "      <th>CustomerID_count</th>\n",
              "      <th>ProjectID_count</th>\n",
              "      <th>MonthOnPosition_relative</th>\n",
              "    </tr>\n",
              "  </thead>\n",
              "  <tbody>\n",
              "  </tbody>\n",
              "</table>\n",
              "</div>"
            ],
            "text/plain": [
              "Empty DataFrame\n",
              "Columns: [EmployeeID, Date, DevCenterID, SBUID, PositionID, PositionLevel, IsTrainee, LanguageLevelID, CustomerID, ProjectID, IsInternalProject, Utilization, HourVacation, HourSickness, HourMobileReserve, HourLockedReserve, OnSite, CompetenceGroupID, FunctionalOfficeID, PaymentTypeId, BonusOneTime, APM, WageGross, HiringDate, DismissalDate, MonthOnPosition, MonthOnSalary, Quarter, diffs_between_dates, Hired, Dismissed, target, DevCenter_count, SBUID_count, CompetenceGroupID_count, FunctionalOfficeID_count, PositionID_count, PaymentTypeId_count, CustomerID_count, ProjectID_count, MonthOnPosition_relative]\n",
              "Index: []"
            ]
          },
          "metadata": {
            "tags": []
          },
          "execution_count": 22
        }
      ]
    },
    {
      "cell_type": "code",
      "metadata": {
        "id": "IYkQoRio5g_3",
        "colab_type": "code",
        "colab": {}
      },
      "source": [
        "def calc_relative_monthonsalary(x):\n",
        "  # month on salary calculates as for the end of month that's why x['Date'].dt.month + 1\n",
        "  # hiring_date = empl_df[empl_df['EmployeeID'] == x['EmployeeID'][0]]['HiringDate'].item()\n",
        "  hiring_date = x['HiringDate'].item()\n",
        "  series = x['MonthOnSalary'] / ((x['Date'].dt.year - hiring_date.year) * 12 + (x['Date'].dt.month + 1 - hiring_date.month))\n",
        "  series = series.rename(\"MonthOnSalary_relative\") \n",
        "  return series"
      ],
      "execution_count": 0,
      "outputs": []
    },
    {
      "cell_type": "code",
      "metadata": {
        "id": "MAEQGnuR5lWe",
        "colab_type": "code",
        "colab": {}
      },
      "source": [
        "monthonsalary_mapping = hist_df.groupby(['EmployeeID', 'Date', 'MonthOnSalary']).apply(calc_relative_monthonsalary).reset_index(level=['EmployeeID', 'Date', 'MonthOnSalary'])\n",
        "hist_df = pd.merge(hist_df, monthonsalary_mapping, on=['EmployeeID', 'Date', 'MonthOnSalary'], how='left')"
      ],
      "execution_count": 0,
      "outputs": []
    },
    {
      "cell_type": "code",
      "metadata": {
        "id": "LyJHO2Cm5pvs",
        "colab_type": "code",
        "colab": {}
      },
      "source": [
        "def calc_month_in_ss(x):\n",
        "  # hiring_date = empl_df[empl_df['EmployeeID'] == x['EmployeeID'][0]]['HiringDate'].item()\n",
        "  hiring_date = x['HiringDate'].item()\n",
        "  series = (x['Date'].dt.year - hiring_date.year) * 12 + (x['Date'].dt.month + 1 - hiring_date.month)\n",
        "  series = series.rename(\"MonthSS\") \n",
        "  return series"
      ],
      "execution_count": 0,
      "outputs": []
    },
    {
      "cell_type": "code",
      "metadata": {
        "id": "wtZhkc3o6N5t",
        "colab_type": "code",
        "colab": {}
      },
      "source": [
        "monthSS_mapping = hist_df.groupby(['EmployeeID', 'Date']).apply(calc_month_in_ss).reset_index(level=['EmployeeID', 'Date'])\n",
        "hist_df = pd.merge(hist_df, monthSS_mapping, on=['EmployeeID', 'Date'], how='left')"
      ],
      "execution_count": 0,
      "outputs": []
    },
    {
      "cell_type": "code",
      "metadata": {
        "id": "UAoHx45SLwdr",
        "colab_type": "code",
        "colab": {}
      },
      "source": [
        "hist_df['HourVacation_relative'] = hist_df['HourVacation'] / 8 / hist_df['Date'].dt.daysinmonth\n",
        "hist_df['HourSickness_relative'] = hist_df['HourSickness'] / 8 / hist_df['Date'].dt.daysinmonth\n",
        "hist_df['HourMobileReserve_relative'] = hist_df['HourMobileReserve'] / 8 / hist_df['Date'].dt.daysinmonth\n",
        "hist_df['HourLockedReserve_relative'] = hist_df['HourLockedReserve'] / 8 / hist_df['Date'].dt.daysinmonth"
      ],
      "execution_count": 0,
      "outputs": []
    },
    {
      "cell_type": "markdown",
      "metadata": {
        "id": "vUqdlrFvwPP6",
        "colab_type": "text"
      },
      "source": [
        "#### transform dataset"
      ]
    },
    {
      "cell_type": "code",
      "metadata": {
        "id": "SxxelE9yBUcq",
        "colab_type": "code",
        "colab": {
          "base_uri": "https://localhost:8080/",
          "height": 68
        },
        "outputId": "0a06d4fd-88a0-4cb6-d62e-30085d16a36f"
      },
      "source": [
        "hist_df['target'].value_counts()"
      ],
      "execution_count": 31,
      "outputs": [
        {
          "output_type": "execute_result",
          "data": {
            "text/plain": [
              "0    82742\n",
              "1     3768\n",
              "Name: target, dtype: int64"
            ]
          },
          "metadata": {
            "tags": []
          },
          "execution_count": 31
        }
      ]
    },
    {
      "cell_type": "code",
      "metadata": {
        "id": "QOAezuqi-o37",
        "colab_type": "code",
        "colab": {
          "base_uri": "https://localhost:8080/",
          "height": 68
        },
        "outputId": "cbcbf755-7fa5-4f08-dbdd-01a77172ed82"
      },
      "source": [
        "hist_df[~((hist_df['target'] == 1) & (hist_df['diffs_between_dates'] == 0) & (hist_df['DismissalDate'].isna() == False))]['target'].value_counts()"
      ],
      "execution_count": 32,
      "outputs": [
        {
          "output_type": "execute_result",
          "data": {
            "text/plain": [
              "0    82742\n",
              "1     3768\n",
              "Name: target, dtype: int64"
            ]
          },
          "metadata": {
            "tags": []
          },
          "execution_count": 32
        }
      ]
    },
    {
      "cell_type": "code",
      "metadata": {
        "id": "VKjcJrfjE290",
        "colab_type": "code",
        "colab": {
          "base_uri": "https://localhost:8080/",
          "height": 34
        },
        "outputId": "4dc4076a-48b5-451a-97c7-13a253ad1b9b"
      },
      "source": [
        "train_date = hist_df.Date.max() - pd.DateOffset(months=3)\n",
        "train_date"
      ],
      "execution_count": 33,
      "outputs": [
        {
          "output_type": "execute_result",
          "data": {
            "text/plain": [
              "Timestamp('2018-11-01 00:00:00')"
            ]
          },
          "metadata": {
            "tags": []
          },
          "execution_count": 33
        }
      ]
    },
    {
      "cell_type": "code",
      "metadata": {
        "id": "Thbj5a0zE30f",
        "colab_type": "code",
        "colab": {
          "base_uri": "https://localhost:8080/",
          "height": 34
        },
        "outputId": "65de7ae2-ce1f-4744-9397-46644ac39cb4"
      },
      "source": [
        "max_date = hist_df.Date.max()\n",
        "max_date = max_date.strftime('%Y-%m-%d')\n",
        "test_date = (dt.datetime.strptime(max_date, '%Y-%m-%d') - pd.DateOffset(months=1))\n",
        "test_date"
      ],
      "execution_count": 34,
      "outputs": [
        {
          "output_type": "execute_result",
          "data": {
            "text/plain": [
              "Timestamp('2019-01-01 00:00:00')"
            ]
          },
          "metadata": {
            "tags": []
          },
          "execution_count": 34
        }
      ]
    },
    {
      "cell_type": "code",
      "metadata": {
        "id": "V_EtjEAyGz8l",
        "colab_type": "code",
        "colab": {}
      },
      "source": [
        "def get_previous_months(original, columns):\n",
        "  #print(original.EmployeeID.unique())\n",
        "#     display(original)\n",
        "  combined = original[['EmployeeID',\t'Date', 'target']]\n",
        "  combined = pd.concat([combined, original[columns]], axis = 1)\n",
        "  for shift_i, n in ((1,'_M3'),(2,'_M2'),(3,'_M1')):\n",
        "    subset_shifted = original[columns].shift(shift_i)\n",
        "    subset_shifted.columns = [s + str(n) for s in columns]\n",
        "    combined = pd.concat([combined, subset_shifted], axis = 1)\n",
        "  return combined"
      ],
      "execution_count": 0,
      "outputs": []
    },
    {
      "cell_type": "code",
      "metadata": {
        "id": "WBpAb1N7G05Z",
        "colab_type": "code",
        "colab": {}
      },
      "source": [
        "columns_shift = ['IsTrainee', 'LanguageLevelID', 'IsInternalProject', 'Utilization', 'OnSite',\n",
        "           'WageGross', 'BonusOneTime', 'APM', 'PositionLevel', 'DevCenter_count', 'SBUID_count',\n",
        "           'CompetenceGroupID_count', 'FunctionalOfficeID_count', 'CustomerID_count', 'ProjectID_count',\n",
        "           'MonthOnPosition_relative', 'MonthOnSalary_relative', 'MonthSS',\n",
        "            'HourVacation_relative', 'HourSickness_relative',\n",
        "           'HourMobileReserve_relative', 'HourLockedReserve_relative', 'PositionID_count', 'PaymentTypeId_count']"
      ],
      "execution_count": 0,
      "outputs": []
    },
    {
      "cell_type": "code",
      "metadata": {
        "id": "f3CkCR02G8xy",
        "colab_type": "code",
        "colab": {}
      },
      "source": [
        "shifted_by_3m_hist_df = hist_df.groupby('EmployeeID').apply(lambda x: get_previous_months(x,columns=columns_shift))"
      ],
      "execution_count": 0,
      "outputs": []
    },
    {
      "cell_type": "code",
      "metadata": {
        "id": "Zi3X7e8pHALG",
        "colab_type": "code",
        "colab": {}
      },
      "source": [
        "def cut_3months(group):\n",
        "  group_cut = group.iloc[3:]\n",
        "  return group_cut"
      ],
      "execution_count": 0,
      "outputs": []
    },
    {
      "cell_type": "code",
      "metadata": {
        "id": "FeLNTQ6BHCRE",
        "colab_type": "code",
        "colab": {}
      },
      "source": [
        "shifted_by_3m_hist_df = shifted_by_3m_hist_df.groupby(['EmployeeID']).apply(cut_3months)"
      ],
      "execution_count": 0,
      "outputs": []
    },
    {
      "cell_type": "code",
      "metadata": {
        "id": "J7k5KttGHGfT",
        "colab_type": "code",
        "colab": {}
      },
      "source": [
        "shifted_by_3m_hist_df.reset_index(drop=True, inplace=True)"
      ],
      "execution_count": 0,
      "outputs": []
    },
    {
      "cell_type": "code",
      "metadata": {
        "id": "xPYGyacFHJsX",
        "colab_type": "code",
        "colab": {
          "base_uri": "https://localhost:8080/",
          "height": 34
        },
        "outputId": "bee822a9-72bb-4abe-8caa-91ac3a635d6a"
      },
      "source": [
        "len(shifted_by_3m_hist_df.EmployeeID.unique()), shifted_by_3m_hist_df.shape"
      ],
      "execution_count": 44,
      "outputs": [
        {
          "output_type": "execute_result",
          "data": {
            "text/plain": [
              "(5373, (70391, 99))"
            ]
          },
          "metadata": {
            "tags": []
          },
          "execution_count": 44
        }
      ]
    },
    {
      "cell_type": "code",
      "metadata": {
        "id": "kznCUjqdHNiO",
        "colab_type": "code",
        "colab": {
          "base_uri": "https://localhost:8080/",
          "height": 34
        },
        "outputId": "912cbf6d-6cb9-494c-adc9-301b387f9f09"
      },
      "source": [
        "train_date = shifted_by_3m_hist_df.Date.max() - pd.DateOffset(months=3)\n",
        "train_date"
      ],
      "execution_count": 45,
      "outputs": [
        {
          "output_type": "execute_result",
          "data": {
            "text/plain": [
              "Timestamp('2018-11-01 00:00:00')"
            ]
          },
          "metadata": {
            "tags": []
          },
          "execution_count": 45
        }
      ]
    },
    {
      "cell_type": "code",
      "metadata": {
        "id": "equf4QsnHPAR",
        "colab_type": "code",
        "colab": {
          "base_uri": "https://localhost:8080/",
          "height": 34
        },
        "outputId": "e9a4f511-d5a1-409f-d02c-8b1a34f17dd9"
      },
      "source": [
        "max_date = shifted_by_3m_hist_df.Date.max()\n",
        "max_date = max_date.strftime('%Y-%m-%d')\n",
        "test_date = (dt.datetime.strptime(max_date, '%Y-%m-%d') - pd.DateOffset(months=1))\n",
        "test_date"
      ],
      "execution_count": 46,
      "outputs": [
        {
          "output_type": "execute_result",
          "data": {
            "text/plain": [
              "Timestamp('2019-01-01 00:00:00')"
            ]
          },
          "metadata": {
            "tags": []
          },
          "execution_count": 46
        }
      ]
    },
    {
      "cell_type": "code",
      "metadata": {
        "id": "fMxKk1BSHRZi",
        "colab_type": "code",
        "colab": {}
      },
      "source": [
        "X_train = shifted_by_3m_hist_df[shifted_by_3m_hist_df.Date < train_date]\n",
        "# y_train_new = shifted_by_3m_hist_df[shifted_by_3m_hist_df.Date < train_date_new].target\n",
        "X_test = shifted_by_3m_hist_df[(shifted_by_3m_hist_df.Date > train_date) & (shifted_by_3m_hist_df.Date < test_date)]\n",
        "# y_test_new = shifted_by_3m_hist_df[(shifted_by_3m_hist_df.Date > train_date_new) & (shifted_by_3m_hist_df.Date < test_date_new)].target\n",
        "X_test_one_month = shifted_by_3m_hist_df[(shifted_by_3m_hist_df.Date == train_date)]\n",
        "# y_test1_new = shifted_by_3m_hist_df[(shifted_by_3m_hist_df.Date == train_date_new)].target\n",
        "X_apply = shifted_by_3m_hist_df[(shifted_by_3m_hist_df.Date > train_date)]\n",
        "# y_apply_new = shifted_by_3m_hist_df[(shifted_by_3m_hist_df.Date > train_date_new)].target"
      ],
      "execution_count": 0,
      "outputs": []
    },
    {
      "cell_type": "code",
      "metadata": {
        "id": "vmHmbB2SHV95",
        "colab_type": "code",
        "colab": {}
      },
      "source": [
        "from sklearn.preprocessing import StandardScaler, MinMaxScaler"
      ],
      "execution_count": 0,
      "outputs": []
    },
    {
      "cell_type": "code",
      "metadata": {
        "id": "nXZnmAqqHXox",
        "colab_type": "code",
        "colab": {}
      },
      "source": [
        "sc = MinMaxScaler((0, 1))"
      ],
      "execution_count": 0,
      "outputs": []
    },
    {
      "cell_type": "code",
      "metadata": {
        "id": "r_yDbECPMlj5",
        "colab_type": "code",
        "colab": {
          "base_uri": "https://localhost:8080/",
          "height": 69
        },
        "outputId": "2306e51e-714b-4d7c-cda2-a09fd7987a5a"
      },
      "source": [
        "hist_df[hist_df['MonthOnSalary_relative'].isin([np.inf, -np.inf])]"
      ],
      "execution_count": 50,
      "outputs": [
        {
          "output_type": "execute_result",
          "data": {
            "text/html": [
              "<div>\n",
              "<style scoped>\n",
              "    .dataframe tbody tr th:only-of-type {\n",
              "        vertical-align: middle;\n",
              "    }\n",
              "\n",
              "    .dataframe tbody tr th {\n",
              "        vertical-align: top;\n",
              "    }\n",
              "\n",
              "    .dataframe thead th {\n",
              "        text-align: right;\n",
              "    }\n",
              "</style>\n",
              "<table border=\"1\" class=\"dataframe\">\n",
              "  <thead>\n",
              "    <tr style=\"text-align: right;\">\n",
              "      <th></th>\n",
              "      <th>EmployeeID</th>\n",
              "      <th>Date</th>\n",
              "      <th>DevCenterID</th>\n",
              "      <th>SBUID</th>\n",
              "      <th>PositionID</th>\n",
              "      <th>PositionLevel</th>\n",
              "      <th>IsTrainee</th>\n",
              "      <th>LanguageLevelID</th>\n",
              "      <th>CustomerID</th>\n",
              "      <th>ProjectID</th>\n",
              "      <th>IsInternalProject</th>\n",
              "      <th>Utilization</th>\n",
              "      <th>HourVacation</th>\n",
              "      <th>HourSickness</th>\n",
              "      <th>HourMobileReserve</th>\n",
              "      <th>HourLockedReserve</th>\n",
              "      <th>OnSite</th>\n",
              "      <th>CompetenceGroupID</th>\n",
              "      <th>FunctionalOfficeID</th>\n",
              "      <th>PaymentTypeId</th>\n",
              "      <th>BonusOneTime</th>\n",
              "      <th>APM</th>\n",
              "      <th>WageGross</th>\n",
              "      <th>HiringDate</th>\n",
              "      <th>DismissalDate</th>\n",
              "      <th>MonthOnPosition</th>\n",
              "      <th>MonthOnSalary</th>\n",
              "      <th>Quarter</th>\n",
              "      <th>diffs_between_dates</th>\n",
              "      <th>Hired</th>\n",
              "      <th>Dismissed</th>\n",
              "      <th>target</th>\n",
              "      <th>DevCenter_count</th>\n",
              "      <th>SBUID_count</th>\n",
              "      <th>CompetenceGroupID_count</th>\n",
              "      <th>FunctionalOfficeID_count</th>\n",
              "      <th>PositionID_count</th>\n",
              "      <th>PaymentTypeId_count</th>\n",
              "      <th>CustomerID_count</th>\n",
              "      <th>ProjectID_count</th>\n",
              "      <th>MonthOnPosition_relative</th>\n",
              "      <th>MonthOnSalary_relative</th>\n",
              "      <th>MonthSS</th>\n",
              "      <th>HourVacation_relative</th>\n",
              "      <th>HourSickness_relative</th>\n",
              "      <th>HourMobileReserve_relative</th>\n",
              "      <th>HourLockedReserve_relative</th>\n",
              "    </tr>\n",
              "  </thead>\n",
              "  <tbody>\n",
              "  </tbody>\n",
              "</table>\n",
              "</div>"
            ],
            "text/plain": [
              "Empty DataFrame\n",
              "Columns: [EmployeeID, Date, DevCenterID, SBUID, PositionID, PositionLevel, IsTrainee, LanguageLevelID, CustomerID, ProjectID, IsInternalProject, Utilization, HourVacation, HourSickness, HourMobileReserve, HourLockedReserve, OnSite, CompetenceGroupID, FunctionalOfficeID, PaymentTypeId, BonusOneTime, APM, WageGross, HiringDate, DismissalDate, MonthOnPosition, MonthOnSalary, Quarter, diffs_between_dates, Hired, Dismissed, target, DevCenter_count, SBUID_count, CompetenceGroupID_count, FunctionalOfficeID_count, PositionID_count, PaymentTypeId_count, CustomerID_count, ProjectID_count, MonthOnPosition_relative, MonthOnSalary_relative, MonthSS, HourVacation_relative, HourSickness_relative, HourMobileReserve_relative, HourLockedReserve_relative]\n",
              "Index: []"
            ]
          },
          "metadata": {
            "tags": []
          },
          "execution_count": 50
        }
      ]
    },
    {
      "cell_type": "code",
      "metadata": {
        "id": "ZjZzmMhHHZ0J",
        "colab_type": "code",
        "colab": {
          "base_uri": "https://localhost:8080/",
          "height": 34
        },
        "outputId": "67978fee-c537-4dff-8f98-01099ed7b3cd"
      },
      "source": [
        "sc.fit(X_train.iloc[:, 3:])"
      ],
      "execution_count": 51,
      "outputs": [
        {
          "output_type": "execute_result",
          "data": {
            "text/plain": [
              "MinMaxScaler(copy=True, feature_range=(0, 1))"
            ]
          },
          "metadata": {
            "tags": []
          },
          "execution_count": 51
        }
      ]
    },
    {
      "cell_type": "code",
      "metadata": {
        "id": "UbTosEyKMEWw",
        "colab_type": "code",
        "colab": {
          "base_uri": "https://localhost:8080/",
          "height": 221
        },
        "outputId": "25f59844-32db-4560-a8a9-4bbcd5fe29c0"
      },
      "source": [
        "X_train.iloc[:, 3:] = sc.transform(X_train.iloc[:, 3:])\n",
        "X_test_one_month.iloc[:, 3:] = sc.transform(X_test_one_month.iloc[:, 3:])"
      ],
      "execution_count": 52,
      "outputs": [
        {
          "output_type": "stream",
          "text": [
            "/usr/local/lib/python3.6/dist-packages/pandas/core/indexing.py:966: SettingWithCopyWarning: \n",
            "A value is trying to be set on a copy of a slice from a DataFrame.\n",
            "Try using .loc[row_indexer,col_indexer] = value instead\n",
            "\n",
            "See the caveats in the documentation: https://pandas.pydata.org/pandas-docs/stable/user_guide/indexing.html#returning-a-view-versus-a-copy\n",
            "  self.obj[item] = s\n",
            "/usr/local/lib/python3.6/dist-packages/pandas/core/indexing.py:966: SettingWithCopyWarning: \n",
            "A value is trying to be set on a copy of a slice from a DataFrame.\n",
            "Try using .loc[row_indexer,col_indexer] = value instead\n",
            "\n",
            "See the caveats in the documentation: https://pandas.pydata.org/pandas-docs/stable/user_guide/indexing.html#returning-a-view-versus-a-copy\n",
            "  self.obj[item] = s\n"
          ],
          "name": "stderr"
        }
      ]
    },
    {
      "cell_type": "code",
      "metadata": {
        "id": "CrwqhsxZbGS9",
        "colab_type": "code",
        "colab": {
          "base_uri": "https://localhost:8080/",
          "height": 221
        },
        "outputId": "3f4976ee-6504-44e1-8efa-82642895a5c7"
      },
      "source": [
        "X_test.iloc[:, 3:] = sc.transform(X_test.iloc[:, 3:])\n",
        "X_apply.iloc[:, 3:] = sc.transform(X_apply.iloc[:, 3:])"
      ],
      "execution_count": 53,
      "outputs": [
        {
          "output_type": "stream",
          "text": [
            "/usr/local/lib/python3.6/dist-packages/pandas/core/indexing.py:966: SettingWithCopyWarning: \n",
            "A value is trying to be set on a copy of a slice from a DataFrame.\n",
            "Try using .loc[row_indexer,col_indexer] = value instead\n",
            "\n",
            "See the caveats in the documentation: https://pandas.pydata.org/pandas-docs/stable/user_guide/indexing.html#returning-a-view-versus-a-copy\n",
            "  self.obj[item] = s\n",
            "/usr/local/lib/python3.6/dist-packages/pandas/core/indexing.py:966: SettingWithCopyWarning: \n",
            "A value is trying to be set on a copy of a slice from a DataFrame.\n",
            "Try using .loc[row_indexer,col_indexer] = value instead\n",
            "\n",
            "See the caveats in the documentation: https://pandas.pydata.org/pandas-docs/stable/user_guide/indexing.html#returning-a-view-versus-a-copy\n",
            "  self.obj[item] = s\n"
          ],
          "name": "stderr"
        }
      ]
    },
    {
      "cell_type": "code",
      "metadata": {
        "id": "IdqfHdokMJRC",
        "colab_type": "code",
        "colab": {
          "base_uri": "https://localhost:8080/",
          "height": 34
        },
        "outputId": "de2b66e4-518b-4d55-e5a7-fb600e9a52a0"
      },
      "source": [
        "X_train.shape, X_test_one_month.shape"
      ],
      "execution_count": 54,
      "outputs": [
        {
          "output_type": "execute_result",
          "data": {
            "text/plain": [
              "((53134, 99), (4330, 99))"
            ]
          },
          "metadata": {
            "tags": []
          },
          "execution_count": 54
        }
      ]
    },
    {
      "cell_type": "code",
      "metadata": {
        "id": "7RZGI8CqMLe2",
        "colab_type": "code",
        "colab": {
          "base_uri": "https://localhost:8080/",
          "height": 34
        },
        "outputId": "766c01e9-f58e-4b3c-fdf7-f76e044b65d3"
      },
      "source": [
        "max(X_train.groupby('EmployeeID').size().max(), X_test.groupby('EmployeeID').size().max(), X_test_one_month.groupby('EmployeeID').size().max(), X_apply.groupby('EmployeeID').size().max())"
      ],
      "execution_count": 55,
      "outputs": [
        {
          "output_type": "execute_result",
          "data": {
            "text/plain": [
              "13"
            ]
          },
          "metadata": {
            "tags": []
          },
          "execution_count": 55
        }
      ]
    },
    {
      "cell_type": "code",
      "metadata": {
        "id": "QjV47p34MPMk",
        "colab_type": "code",
        "colab": {}
      },
      "source": [
        "def reframe_one_sample(df, n_features, pad_len=13):\n",
        "  target = df['target'].iloc[-1]\n",
        "  x = df.iloc[:, 3:].values.reshape(df.shape[0], 3 + 1, n_features)\n",
        "  x = np.pad(x, [(0, pad_len - x.shape[0]), (0, 0), (0, 0)], 'constant', constant_values=(100))\n",
        "  return (x, target)"
      ],
      "execution_count": 0,
      "outputs": []
    },
    {
      "cell_type": "code",
      "metadata": {
        "id": "ijW0gpSDMPU0",
        "colab_type": "code",
        "colab": {}
      },
      "source": [
        "X_train_samples = []\n",
        "y_train_targets = []\n",
        "for sample, y in X_train.groupby('EmployeeID').apply(lambda x: reframe_one_sample(x, n_features=len(columns_shift))):\n",
        "  X_train_samples.append(sample)\n",
        "  y_train_targets.append(y)"
      ],
      "execution_count": 0,
      "outputs": []
    },
    {
      "cell_type": "code",
      "metadata": {
        "id": "UBwtT1oAWrnR",
        "colab_type": "code",
        "colab": {
          "base_uri": "https://localhost:8080/",
          "height": 34
        },
        "outputId": "765c893b-ff85-442f-98e1-266f19df614c"
      },
      "source": [
        "np.array(X_train_samples).shape, np.array(y_train_targets).shape"
      ],
      "execution_count": 58,
      "outputs": [
        {
          "output_type": "execute_result",
          "data": {
            "text/plain": [
              "((5079, 13, 4, 24), (5079,))"
            ]
          },
          "metadata": {
            "tags": []
          },
          "execution_count": 58
        }
      ]
    },
    {
      "cell_type": "code",
      "metadata": {
        "id": "obStz8PJWr63",
        "colab_type": "code",
        "colab": {}
      },
      "source": [
        "X_test_one_month_samples = []\n",
        "y_test_one_month_target = []\n",
        "for sample, y in X_test_one_month.groupby('EmployeeID').apply(lambda x: reframe_one_sample(x, n_features=len(columns_shift))):\n",
        "  X_test_one_month_samples.append(sample)\n",
        "  y_test_one_month_target.append(y)"
      ],
      "execution_count": 0,
      "outputs": []
    },
    {
      "cell_type": "code",
      "metadata": {
        "id": "SIykeFwCa5hX",
        "colab_type": "code",
        "colab": {}
      },
      "source": [
        "X_test_samples = []\n",
        "y_test_target = []\n",
        "for sample, y in X_test.groupby('EmployeeID').apply(lambda x: reframe_one_sample(x, n_features=len(columns_shift))):\n",
        "  X_test_samples.append(sample)\n",
        "  y_test_target.append(y)"
      ],
      "execution_count": 0,
      "outputs": []
    },
    {
      "cell_type": "code",
      "metadata": {
        "id": "-7nNWPAyMPe-",
        "colab_type": "code",
        "colab": {
          "base_uri": "https://localhost:8080/",
          "height": 34
        },
        "outputId": "5cfabbdb-e858-4cee-ca52-31d0d97ff6e9"
      },
      "source": [
        "np.array(X_test_one_month_samples).shape, np.array(y_test_one_month_target).shape"
      ],
      "execution_count": 61,
      "outputs": [
        {
          "output_type": "execute_result",
          "data": {
            "text/plain": [
              "((4330, 13, 4, 24), (4330,))"
            ]
          },
          "metadata": {
            "tags": []
          },
          "execution_count": 61
        }
      ]
    },
    {
      "cell_type": "code",
      "metadata": {
        "id": "ASk2NhE8aUkU",
        "colab_type": "code",
        "colab": {}
      },
      "source": [
        "from keras import backend as K\n",
        "import keras\n",
        "from keras.models import Model\n",
        "from keras.layers import Dense, Input, LSTM, Dropout, Bidirectional, TimeDistributed, Flatten, Masking, Conv1D, MaxPooling1D\n",
        "from keras.optimizers import Adam, SGD\n",
        "from keras import initializers"
      ],
      "execution_count": 0,
      "outputs": []
    },
    {
      "cell_type": "code",
      "metadata": {
        "id": "rSYik-6QaUqJ",
        "colab_type": "code",
        "colab": {}
      },
      "source": [
        "\n",
        "def recall_metrics(y_true, y_pred):\n",
        "  true_positives = K.sum(K.round(K.clip(y_true * y_pred, 0, 1)))\n",
        "  possible_positives = K.sum(K.round(K.clip(y_true, 0, 1)))\n",
        "  recall = true_positives / (possible_positives + K.epsilon())\n",
        "  return recall\n",
        "\n",
        "\n",
        "def precision_metrics(y_true, y_pred):\n",
        "  true_positives = K.sum(K.round(K.clip(y_true * y_pred, 0, 1)))\n",
        "  predicted_positives = K.sum(K.round(K.clip(y_pred, 0, 1)))\n",
        "  precision = true_positives / (predicted_positives + K.epsilon())\n",
        "  return precision\n",
        "\n",
        "def fb_metrics(beta=1.7):\n",
        "  def fb_m(y_true, y_pred):\n",
        "    precision = precision_metrics(y_true, y_pred)\n",
        "    recall = recall_metrics(y_true, y_pred)\n",
        "    return (1+beta ** 2)*((precision*recall)/(beta ** 2 * precision+recall+K.epsilon()))\n",
        "  return fb_m"
      ],
      "execution_count": 0,
      "outputs": []
    },
    {
      "cell_type": "code",
      "metadata": {
        "id": "shmZMThpaUvC",
        "colab_type": "code",
        "colab": {}
      },
      "source": [
        "initializer = initializers.glorot_normal()"
      ],
      "execution_count": 0,
      "outputs": []
    },
    {
      "cell_type": "code",
      "metadata": {
        "id": "gDS9-lVbbXSW",
        "colab_type": "code",
        "colab": {
          "base_uri": "https://localhost:8080/",
          "height": 34
        },
        "outputId": "ec0925ef-fbb2-4d72-b8df-9899e5114c56"
      },
      "source": [
        "X_train_samples[0].shape"
      ],
      "execution_count": 65,
      "outputs": [
        {
          "output_type": "execute_result",
          "data": {
            "text/plain": [
              "(13, 4, 24)"
            ]
          },
          "metadata": {
            "tags": []
          },
          "execution_count": 65
        }
      ]
    },
    {
      "cell_type": "code",
      "metadata": {
        "id": "95iPxB4tabam",
        "colab_type": "code",
        "colab": {}
      },
      "source": [
        "model = keras.Sequential()\n",
        "model.add(TimeDistributed(Flatten(input_shape=(4,24))))\n",
        "model.add(Masking(mask_value=100))\n",
        "model.add(LSTM(6,return_sequences=False,\n",
        "               input_shape=(13,4,24),\n",
        "               activation='relu'))\n",
        "model.add(Dropout(0.2))\n",
        "# model.add(LSTM(4,return_sequences=False, activation='relu'))\n",
        "# model.add(Dropout(0.2))\n",
        "# model.add(Dense(2, activation='relu', kernel_initializer=initializer, bias_initializer=initializers.Constant(0.001)))\n",
        "model.add(Dense(1,activation='sigmoid'))"
      ],
      "execution_count": 0,
      "outputs": []
    },
    {
      "cell_type": "code",
      "metadata": {
        "id": "cOY_vhx37mHr",
        "colab_type": "code",
        "colab": {}
      },
      "source": [
        "# inputs = Input(shape=(13, 4, 24))\n",
        "# x = TimeDistributed(LSTM(2,return_sequences=False)) (inputs)\n",
        "# # x = TimeDistributed(LSTM(12,return_sequences=True)) (inputs)\n",
        "# # x = TimeDistributed(LSTM(4, return_sequences=False))(x)\n",
        "# x = Flatten()(x)\n",
        "# outputs = Dense(1, activation='sigmoid') (x)\n",
        "# model = Model(inputs=inputs, outputs=outputs)"
      ],
      "execution_count": 0,
      "outputs": []
    },
    {
      "cell_type": "code",
      "metadata": {
        "id": "JlbO-bhyabd8",
        "colab_type": "code",
        "colab": {}
      },
      "source": [
        "metrics = [\n",
        "    recall_metrics,\n",
        "    precision_metrics,\n",
        "    fb_metrics(beta=1.7)\n",
        "]\n",
        "\n",
        "adam = Adam(lr=1e-5, beta_1=0.9, beta_2=0.999, epsilon=1e-08, decay=0.0)\n",
        "model.compile(loss='binary_crossentropy', metrics=[metrics], optimizer=adam)"
      ],
      "execution_count": 0,
      "outputs": []
    },
    {
      "cell_type": "code",
      "metadata": {
        "id": "CeJYii19abhq",
        "colab_type": "code",
        "colab": {
          "base_uri": "https://localhost:8080/",
          "height": 51
        },
        "outputId": "6288383c-0ce7-4a60-bf17-89fa1a6d2f3a"
      },
      "source": [
        "weight_for_1 = (1 / len(np.where(np.array(y_train_targets) == 0)[0]))*(len(y_train_targets))/2.0 \n",
        "weight_for_2 = (1 / len(np.where(np.array(y_train_targets) == 1)[0]))*(len(y_train_targets))/2.0\n",
        "\n",
        "class_weight = {0: weight_for_1, 1: weight_for_2}\n",
        "\n",
        "print('Weight for class 1: {:.2f}'.format(weight_for_1))\n",
        "print('Weight for class 2: {:.2f}'.format(weight_for_2))"
      ],
      "execution_count": 68,
      "outputs": [
        {
          "output_type": "stream",
          "text": [
            "Weight for class 1: 0.62\n",
            "Weight for class 2: 2.62\n"
          ],
          "name": "stdout"
        }
      ]
    },
    {
      "cell_type": "code",
      "metadata": {
        "id": "nef7nfwNzyWH",
        "colab_type": "code",
        "colab": {
          "base_uri": "https://localhost:8080/",
          "height": 34
        },
        "outputId": "23554b1b-04c7-4b9a-f631-56b19669f8c6"
      },
      "source": [
        "len(np.where(np.array(y_test_one_month_target) == 1)[0])"
      ],
      "execution_count": 616,
      "outputs": [
        {
          "output_type": "execute_result",
          "data": {
            "text/plain": [
              "393"
            ]
          },
          "metadata": {
            "tags": []
          },
          "execution_count": 616
        }
      ]
    },
    {
      "cell_type": "code",
      "metadata": {
        "id": "ec99-bsUahwe",
        "colab_type": "code",
        "colab": {
          "base_uri": "https://localhost:8080/",
          "height": 1000
        },
        "outputId": "d02f2b11-aa2f-44e1-a819-625c34677264"
      },
      "source": [
        "history = model.fit(np.array(X_train_samples), np.array(y_train_targets),\n",
        "          validation_data = [np.array(X_test_one_month_samples), np.array(y_test_one_month_target)],\n",
        "          class_weight=class_weight,\n",
        "          epochs=100,\n",
        "          batch_size=64,\n",
        "          callbacks=[keras.callbacks.EarlyStopping(monitor='val_loss', patience=2)]\n",
        "          )"
      ],
      "execution_count": 599,
      "outputs": [
        {
          "output_type": "stream",
          "text": [
            "Train on 5079 samples, validate on 4330 samples\n",
            "Epoch 1/100\n",
            "5079/5079 [==============================] - 2s 330us/step - loss: 0.7241 - recall_metrics: 0.9630 - precision_metrics: 0.1906 - fb_m: 0.4649 - val_loss: 0.7220 - val_recall_metrics: 0.9888 - val_precision_metrics: 0.0921 - val_fb_m: 0.2777\n",
            "Epoch 2/100\n",
            "5079/5079 [==============================] - 1s 217us/step - loss: 0.7173 - recall_metrics: 0.9666 - precision_metrics: 0.1929 - fb_m: 0.4697 - val_loss: 0.7197 - val_recall_metrics: 0.9888 - val_precision_metrics: 0.0929 - val_fb_m: 0.2795\n",
            "Epoch 3/100\n",
            "5079/5079 [==============================] - 1s 203us/step - loss: 0.7140 - recall_metrics: 0.9631 - precision_metrics: 0.1931 - fb_m: 0.4688 - val_loss: 0.7177 - val_recall_metrics: 0.9888 - val_precision_metrics: 0.0937 - val_fb_m: 0.2815\n",
            "Epoch 4/100\n",
            "5079/5079 [==============================] - 1s 204us/step - loss: 0.7095 - recall_metrics: 0.9599 - precision_metrics: 0.1934 - fb_m: 0.4678 - val_loss: 0.7160 - val_recall_metrics: 0.9888 - val_precision_metrics: 0.0944 - val_fb_m: 0.2831\n",
            "Epoch 5/100\n",
            "5079/5079 [==============================] - 1s 209us/step - loss: 0.7070 - recall_metrics: 0.9591 - precision_metrics: 0.1929 - fb_m: 0.4696 - val_loss: 0.7144 - val_recall_metrics: 0.9818 - val_precision_metrics: 0.0945 - val_fb_m: 0.2827\n",
            "Epoch 6/100\n",
            "5079/5079 [==============================] - 1s 205us/step - loss: 0.7033 - recall_metrics: 0.9511 - precision_metrics: 0.1948 - fb_m: 0.4691 - val_loss: 0.7130 - val_recall_metrics: 0.9763 - val_precision_metrics: 0.0945 - val_fb_m: 0.2824\n",
            "Epoch 7/100\n",
            "5079/5079 [==============================] - 1s 211us/step - loss: 0.7030 - recall_metrics: 0.9433 - precision_metrics: 0.1924 - fb_m: 0.4635 - val_loss: 0.7117 - val_recall_metrics: 0.9748 - val_precision_metrics: 0.0951 - val_fb_m: 0.2838\n",
            "Epoch 8/100\n",
            "5079/5079 [==============================] - 1s 218us/step - loss: 0.7006 - recall_metrics: 0.9469 - precision_metrics: 0.1951 - fb_m: 0.4668 - val_loss: 0.7106 - val_recall_metrics: 0.9724 - val_precision_metrics: 0.0960 - val_fb_m: 0.2857\n",
            "Epoch 9/100\n",
            "5079/5079 [==============================] - 1s 202us/step - loss: 0.6969 - recall_metrics: 0.9436 - precision_metrics: 0.1976 - fb_m: 0.4720 - val_loss: 0.7096 - val_recall_metrics: 0.9650 - val_precision_metrics: 0.0965 - val_fb_m: 0.2861\n",
            "Epoch 10/100\n",
            "5079/5079 [==============================] - 1s 208us/step - loss: 0.6971 - recall_metrics: 0.9447 - precision_metrics: 0.1986 - fb_m: 0.4736 - val_loss: 0.7087 - val_recall_metrics: 0.9613 - val_precision_metrics: 0.0972 - val_fb_m: 0.2873\n",
            "Epoch 11/100\n",
            "5079/5079 [==============================] - 1s 206us/step - loss: 0.6964 - recall_metrics: 0.9280 - precision_metrics: 0.1961 - fb_m: 0.4665 - val_loss: 0.7078 - val_recall_metrics: 0.9576 - val_precision_metrics: 0.0986 - val_fb_m: 0.2902\n",
            "Epoch 12/100\n",
            "5079/5079 [==============================] - 1s 213us/step - loss: 0.6953 - recall_metrics: 0.9236 - precision_metrics: 0.1967 - fb_m: 0.4660 - val_loss: 0.7070 - val_recall_metrics: 0.9509 - val_precision_metrics: 0.0994 - val_fb_m: 0.2917\n",
            "Epoch 13/100\n",
            "5079/5079 [==============================] - 1s 209us/step - loss: 0.6944 - recall_metrics: 0.9138 - precision_metrics: 0.1985 - fb_m: 0.4673 - val_loss: 0.7062 - val_recall_metrics: 0.9455 - val_precision_metrics: 0.1007 - val_fb_m: 0.2942\n",
            "Epoch 14/100\n",
            "5079/5079 [==============================] - 1s 203us/step - loss: 0.6938 - recall_metrics: 0.9131 - precision_metrics: 0.1982 - fb_m: 0.4641 - val_loss: 0.7056 - val_recall_metrics: 0.9411 - val_precision_metrics: 0.1017 - val_fb_m: 0.2960\n",
            "Epoch 15/100\n",
            "5079/5079 [==============================] - 1s 207us/step - loss: 0.6940 - recall_metrics: 0.9031 - precision_metrics: 0.1998 - fb_m: 0.4661 - val_loss: 0.7049 - val_recall_metrics: 0.9273 - val_precision_metrics: 0.1023 - val_fb_m: 0.2963\n",
            "Epoch 16/100\n",
            "5079/5079 [==============================] - 1s 215us/step - loss: 0.6924 - recall_metrics: 0.9045 - precision_metrics: 0.2020 - fb_m: 0.4715 - val_loss: 0.7042 - val_recall_metrics: 0.9181 - val_precision_metrics: 0.1027 - val_fb_m: 0.2965\n",
            "Epoch 17/100\n",
            "5079/5079 [==============================] - 1s 210us/step - loss: 0.6908 - recall_metrics: 0.9078 - precision_metrics: 0.2050 - fb_m: 0.4722 - val_loss: 0.7037 - val_recall_metrics: 0.9035 - val_precision_metrics: 0.1028 - val_fb_m: 0.2954\n",
            "Epoch 18/100\n",
            "5079/5079 [==============================] - 1s 208us/step - loss: 0.6900 - recall_metrics: 0.8879 - precision_metrics: 0.2046 - fb_m: 0.4713 - val_loss: 0.7031 - val_recall_metrics: 0.8865 - val_precision_metrics: 0.1029 - val_fb_m: 0.2941\n",
            "Epoch 19/100\n",
            "5079/5079 [==============================] - 1s 211us/step - loss: 0.6903 - recall_metrics: 0.9007 - precision_metrics: 0.2070 - fb_m: 0.4775 - val_loss: 0.7026 - val_recall_metrics: 0.8677 - val_precision_metrics: 0.1026 - val_fb_m: 0.2918\n",
            "Epoch 20/100\n",
            "5079/5079 [==============================] - 1s 216us/step - loss: 0.6894 - recall_metrics: 0.8826 - precision_metrics: 0.2093 - fb_m: 0.4746 - val_loss: 0.7021 - val_recall_metrics: 0.8573 - val_precision_metrics: 0.1030 - val_fb_m: 0.2918\n",
            "Epoch 21/100\n",
            "5079/5079 [==============================] - 1s 210us/step - loss: 0.6895 - recall_metrics: 0.8851 - precision_metrics: 0.2097 - fb_m: 0.4760 - val_loss: 0.7017 - val_recall_metrics: 0.8463 - val_precision_metrics: 0.1036 - val_fb_m: 0.2920\n",
            "Epoch 22/100\n",
            "5079/5079 [==============================] - 1s 205us/step - loss: 0.6890 - recall_metrics: 0.8749 - precision_metrics: 0.2091 - fb_m: 0.4763 - val_loss: 0.7012 - val_recall_metrics: 0.8356 - val_precision_metrics: 0.1044 - val_fb_m: 0.2925\n",
            "Epoch 23/100\n",
            "5079/5079 [==============================] - 1s 209us/step - loss: 0.6867 - recall_metrics: 0.8826 - precision_metrics: 0.2150 - fb_m: 0.4821 - val_loss: 0.7008 - val_recall_metrics: 0.8149 - val_precision_metrics: 0.1040 - val_fb_m: 0.2899\n",
            "Epoch 24/100\n",
            "5079/5079 [==============================] - 1s 206us/step - loss: 0.6879 - recall_metrics: 0.8727 - precision_metrics: 0.2134 - fb_m: 0.4776 - val_loss: 0.7004 - val_recall_metrics: 0.7988 - val_precision_metrics: 0.1036 - val_fb_m: 0.2876\n",
            "Epoch 25/100\n",
            "5079/5079 [==============================] - 1s 206us/step - loss: 0.6868 - recall_metrics: 0.8602 - precision_metrics: 0.2132 - fb_m: 0.4747 - val_loss: 0.7001 - val_recall_metrics: 0.7933 - val_precision_metrics: 0.1041 - val_fb_m: 0.2879\n",
            "Epoch 26/100\n",
            "5079/5079 [==============================] - 1s 222us/step - loss: 0.6871 - recall_metrics: 0.8530 - precision_metrics: 0.2124 - fb_m: 0.4739 - val_loss: 0.6997 - val_recall_metrics: 0.7759 - val_precision_metrics: 0.1039 - val_fb_m: 0.2856\n",
            "Epoch 27/100\n",
            "5079/5079 [==============================] - 1s 221us/step - loss: 0.6872 - recall_metrics: 0.8426 - precision_metrics: 0.2104 - fb_m: 0.4656 - val_loss: 0.6993 - val_recall_metrics: 0.7716 - val_precision_metrics: 0.1052 - val_fb_m: 0.2877\n",
            "Epoch 28/100\n",
            "5079/5079 [==============================] - 1s 208us/step - loss: 0.6853 - recall_metrics: 0.8439 - precision_metrics: 0.2132 - fb_m: 0.4691 - val_loss: 0.6990 - val_recall_metrics: 0.7625 - val_precision_metrics: 0.1057 - val_fb_m: 0.2876\n",
            "Epoch 29/100\n",
            "5079/5079 [==============================] - 1s 210us/step - loss: 0.6864 - recall_metrics: 0.8132 - precision_metrics: 0.2128 - fb_m: 0.4633 - val_loss: 0.6986 - val_recall_metrics: 0.7580 - val_precision_metrics: 0.1071 - val_fb_m: 0.2898\n",
            "Epoch 30/100\n",
            "5079/5079 [==============================] - 1s 205us/step - loss: 0.6857 - recall_metrics: 0.8098 - precision_metrics: 0.2124 - fb_m: 0.4618 - val_loss: 0.6982 - val_recall_metrics: 0.7473 - val_precision_metrics: 0.1081 - val_fb_m: 0.2904\n",
            "Epoch 31/100\n",
            "5079/5079 [==============================] - 1s 212us/step - loss: 0.6840 - recall_metrics: 0.8250 - precision_metrics: 0.2178 - fb_m: 0.4735 - val_loss: 0.6978 - val_recall_metrics: 0.7376 - val_precision_metrics: 0.1094 - val_fb_m: 0.2917\n",
            "Epoch 32/100\n",
            "5079/5079 [==============================] - 1s 217us/step - loss: 0.6831 - recall_metrics: 0.8151 - precision_metrics: 0.2180 - fb_m: 0.4720 - val_loss: 0.6974 - val_recall_metrics: 0.7173 - val_precision_metrics: 0.1095 - val_fb_m: 0.2893\n",
            "Epoch 33/100\n",
            "5079/5079 [==============================] - 1s 222us/step - loss: 0.6828 - recall_metrics: 0.7764 - precision_metrics: 0.2144 - fb_m: 0.4546 - val_loss: 0.6970 - val_recall_metrics: 0.6996 - val_precision_metrics: 0.1098 - val_fb_m: 0.2876\n",
            "Epoch 34/100\n",
            "5079/5079 [==============================] - 1s 218us/step - loss: 0.6812 - recall_metrics: 0.7828 - precision_metrics: 0.2185 - fb_m: 0.4621 - val_loss: 0.6966 - val_recall_metrics: 0.6870 - val_precision_metrics: 0.1110 - val_fb_m: 0.2880\n",
            "Epoch 35/100\n",
            "5079/5079 [==============================] - 1s 213us/step - loss: 0.6827 - recall_metrics: 0.7593 - precision_metrics: 0.2188 - fb_m: 0.4549 - val_loss: 0.6962 - val_recall_metrics: 0.6757 - val_precision_metrics: 0.1118 - val_fb_m: 0.2877\n",
            "Epoch 36/100\n",
            "5079/5079 [==============================] - 1s 222us/step - loss: 0.6808 - recall_metrics: 0.7462 - precision_metrics: 0.2226 - fb_m: 0.4565 - val_loss: 0.6958 - val_recall_metrics: 0.6653 - val_precision_metrics: 0.1128 - val_fb_m: 0.2879\n",
            "Epoch 37/100\n",
            "5079/5079 [==============================] - 1s 207us/step - loss: 0.6808 - recall_metrics: 0.7236 - precision_metrics: 0.2182 - fb_m: 0.4466 - val_loss: 0.6954 - val_recall_metrics: 0.6397 - val_precision_metrics: 0.1108 - val_fb_m: 0.2808\n",
            "Epoch 38/100\n",
            "5079/5079 [==============================] - 1s 206us/step - loss: 0.6809 - recall_metrics: 0.7019 - precision_metrics: 0.2194 - fb_m: 0.4419 - val_loss: 0.6948 - val_recall_metrics: 0.6250 - val_precision_metrics: 0.1112 - val_fb_m: 0.2790\n",
            "Epoch 39/100\n",
            "5079/5079 [==============================] - 1s 213us/step - loss: 0.6794 - recall_metrics: 0.7169 - precision_metrics: 0.2264 - fb_m: 0.4501 - val_loss: 0.6944 - val_recall_metrics: 0.6178 - val_precision_metrics: 0.1121 - val_fb_m: 0.2791\n",
            "Epoch 40/100\n",
            "5079/5079 [==============================] - 1s 219us/step - loss: 0.6781 - recall_metrics: 0.6685 - precision_metrics: 0.2217 - fb_m: 0.4329 - val_loss: 0.6940 - val_recall_metrics: 0.6059 - val_precision_metrics: 0.1117 - val_fb_m: 0.2766\n",
            "Epoch 41/100\n",
            "5079/5079 [==============================] - 1s 208us/step - loss: 0.6783 - recall_metrics: 0.6849 - precision_metrics: 0.2297 - fb_m: 0.4466 - val_loss: 0.6933 - val_recall_metrics: 0.5854 - val_precision_metrics: 0.1103 - val_fb_m: 0.2708\n",
            "Epoch 42/100\n",
            "5079/5079 [==============================] - 1s 203us/step - loss: 0.6761 - recall_metrics: 0.6212 - precision_metrics: 0.2209 - fb_m: 0.4178 - val_loss: 0.6927 - val_recall_metrics: 0.5776 - val_precision_metrics: 0.1119 - val_fb_m: 0.2722\n",
            "Epoch 43/100\n",
            "5079/5079 [==============================] - 1s 209us/step - loss: 0.6736 - recall_metrics: 0.6548 - precision_metrics: 0.2327 - fb_m: 0.4390 - val_loss: 0.6923 - val_recall_metrics: 0.5728 - val_precision_metrics: 0.1119 - val_fb_m: 0.2716\n",
            "Epoch 44/100\n",
            "5079/5079 [==============================] - 1s 209us/step - loss: 0.6725 - recall_metrics: 0.6415 - precision_metrics: 0.2352 - fb_m: 0.4360 - val_loss: 0.6918 - val_recall_metrics: 0.5710 - val_precision_metrics: 0.1139 - val_fb_m: 0.2742\n",
            "Epoch 45/100\n",
            "5079/5079 [==============================] - 1s 207us/step - loss: 0.6760 - recall_metrics: 0.5933 - precision_metrics: 0.2255 - fb_m: 0.4096 - val_loss: 0.6913 - val_recall_metrics: 0.5638 - val_precision_metrics: 0.1138 - val_fb_m: 0.2728\n",
            "Epoch 46/100\n",
            "5079/5079 [==============================] - 1s 209us/step - loss: 0.6699 - recall_metrics: 0.6194 - precision_metrics: 0.2428 - fb_m: 0.4336 - val_loss: 0.6910 - val_recall_metrics: 0.5618 - val_precision_metrics: 0.1151 - val_fb_m: 0.2745\n",
            "Epoch 47/100\n",
            "5079/5079 [==============================] - 1s 203us/step - loss: 0.6725 - recall_metrics: 0.6088 - precision_metrics: 0.2372 - fb_m: 0.4276 - val_loss: 0.6907 - val_recall_metrics: 0.5672 - val_precision_metrics: 0.1171 - val_fb_m: 0.2785\n",
            "Epoch 48/100\n",
            "5079/5079 [==============================] - 1s 210us/step - loss: 0.6691 - recall_metrics: 0.6056 - precision_metrics: 0.2404 - fb_m: 0.4284 - val_loss: 0.6902 - val_recall_metrics: 0.5498 - val_precision_metrics: 0.1178 - val_fb_m: 0.2761\n",
            "Epoch 49/100\n",
            "5079/5079 [==============================] - 1s 209us/step - loss: 0.6681 - recall_metrics: 0.5936 - precision_metrics: 0.2410 - fb_m: 0.4208 - val_loss: 0.6899 - val_recall_metrics: 0.5516 - val_precision_metrics: 0.1200 - val_fb_m: 0.2796\n",
            "Epoch 50/100\n",
            "5079/5079 [==============================] - 1s 211us/step - loss: 0.6674 - recall_metrics: 0.5781 - precision_metrics: 0.2424 - fb_m: 0.4184 - val_loss: 0.6896 - val_recall_metrics: 0.5379 - val_precision_metrics: 0.1194 - val_fb_m: 0.2759\n",
            "Epoch 51/100\n",
            "5079/5079 [==============================] - 1s 206us/step - loss: 0.6702 - recall_metrics: 0.5656 - precision_metrics: 0.2364 - fb_m: 0.4059 - val_loss: 0.6893 - val_recall_metrics: 0.5342 - val_precision_metrics: 0.1192 - val_fb_m: 0.2748\n",
            "Epoch 52/100\n",
            "5079/5079 [==============================] - 1s 219us/step - loss: 0.6653 - recall_metrics: 0.5844 - precision_metrics: 0.2526 - fb_m: 0.4294 - val_loss: 0.6891 - val_recall_metrics: 0.5269 - val_precision_metrics: 0.1189 - val_fb_m: 0.2733\n",
            "Epoch 53/100\n",
            "5079/5079 [==============================] - 1s 211us/step - loss: 0.6632 - recall_metrics: 0.5746 - precision_metrics: 0.2541 - fb_m: 0.4255 - val_loss: 0.6890 - val_recall_metrics: 0.5263 - val_precision_metrics: 0.1194 - val_fb_m: 0.2739\n",
            "Epoch 54/100\n",
            "5079/5079 [==============================] - 1s 220us/step - loss: 0.6620 - recall_metrics: 0.5671 - precision_metrics: 0.2446 - fb_m: 0.4134 - val_loss: 0.6890 - val_recall_metrics: 0.5233 - val_precision_metrics: 0.1193 - val_fb_m: 0.2731\n",
            "Epoch 55/100\n",
            "5079/5079 [==============================] - 1s 209us/step - loss: 0.6599 - recall_metrics: 0.5898 - precision_metrics: 0.2666 - fb_m: 0.4416 - val_loss: 0.6887 - val_recall_metrics: 0.5155 - val_precision_metrics: 0.1191 - val_fb_m: 0.2714\n",
            "Epoch 56/100\n",
            "5079/5079 [==============================] - 1s 195us/step - loss: 0.6605 - recall_metrics: 0.5677 - precision_metrics: 0.2612 - fb_m: 0.4268 - val_loss: 0.6886 - val_recall_metrics: 0.5233 - val_precision_metrics: 0.1209 - val_fb_m: 0.2753\n",
            "Epoch 57/100\n",
            "5079/5079 [==============================] - 1s 195us/step - loss: 0.6574 - recall_metrics: 0.5675 - precision_metrics: 0.2604 - fb_m: 0.4289 - val_loss: 0.6887 - val_recall_metrics: 0.5219 - val_precision_metrics: 0.1197 - val_fb_m: 0.2733\n",
            "Epoch 58/100\n",
            "5079/5079 [==============================] - 1s 214us/step - loss: 0.6604 - recall_metrics: 0.5637 - precision_metrics: 0.2633 - fb_m: 0.4292 - val_loss: 0.6888 - val_recall_metrics: 0.5252 - val_precision_metrics: 0.1206 - val_fb_m: 0.2753\n"
          ],
          "name": "stdout"
        }
      ]
    },
    {
      "cell_type": "code",
      "metadata": {
        "id": "ZuoAmuT9jmyE",
        "colab_type": "code",
        "colab": {}
      },
      "source": [
        ""
      ],
      "execution_count": 0,
      "outputs": []
    },
    {
      "cell_type": "code",
      "metadata": {
        "id": "Kpe0V3x0ah0y",
        "colab_type": "code",
        "colab": {
          "base_uri": "https://localhost:8080/",
          "height": 285
        },
        "outputId": "f588b20c-34a9-4c3b-aae7-713a1f61a72c"
      },
      "source": [
        "plt.plot(history.history['loss'])\n",
        "plt.plot(history.history['val_loss'])"
      ],
      "execution_count": 600,
      "outputs": [
        {
          "output_type": "execute_result",
          "data": {
            "text/plain": [
              "[<matplotlib.lines.Line2D at 0x7f2cab519b38>]"
            ]
          },
          "metadata": {
            "tags": []
          },
          "execution_count": 600
        },
        {
          "output_type": "display_data",
          "data": {
            "image/png": "[encoded data removed]",
            "text/plain": [
              "<Figure size 432x288 with 1 Axes>"
            ]
          },
          "metadata": {
            "tags": []
          }
        }
      ]
    },
    {
      "cell_type": "code",
      "metadata": {
        "id": "7WuEEEYLah4v",
        "colab_type": "code",
        "colab": {}
      },
      "source": [
        "from sklearn.metrics import confusion_matrix, fbeta_score"
      ],
      "execution_count": 0,
      "outputs": []
    },
    {
      "cell_type": "code",
      "metadata": {
        "id": "0uccNC8lhEYZ",
        "colab_type": "code",
        "colab": {}
      },
      "source": [
        "def to_labels(pos_probs, threshold):\n",
        "  return (pos_probs >= threshold).astype('int')"
      ],
      "execution_count": 0,
      "outputs": []
    },
    {
      "cell_type": "code",
      "metadata": {
        "id": "w8oSw66LiAB6",
        "colab_type": "code",
        "colab": {}
      },
      "source": [
        "#train"
      ],
      "execution_count": 0,
      "outputs": []
    },
    {
      "cell_type": "code",
      "metadata": {
        "id": "Qwh5IwpQapeX",
        "colab_type": "code",
        "colab": {
          "base_uri": "https://localhost:8080/",
          "height": 51
        },
        "outputId": "1a985342-22b9-4af8-b95a-bb357348d150"
      },
      "source": [
        "confusion_matrix(np.array(y_train_targets), (model.predict(np.array(X_train_samples)) > 0.5).astype(int))"
      ],
      "execution_count": 601,
      "outputs": [
        {
          "output_type": "execute_result",
          "data": {
            "text/plain": [
              "array([[2789, 1320],\n",
              "       [ 441,  529]])"
            ]
          },
          "metadata": {
            "tags": []
          },
          "execution_count": 601
        }
      ]
    },
    {
      "cell_type": "code",
      "metadata": {
        "id": "BJ3KjBRwiByM",
        "colab_type": "code",
        "colab": {}
      },
      "source": [
        "#test"
      ],
      "execution_count": 0,
      "outputs": []
    },
    {
      "cell_type": "code",
      "metadata": {
        "id": "O5JVO2dUh6o7",
        "colab_type": "code",
        "colab": {
          "base_uri": "https://localhost:8080/",
          "height": 51
        },
        "outputId": "dd1221bb-874b-496d-92e2-b32ac7ad8527"
      },
      "source": [
        "confusion_matrix(np.array(y_test_one_month_target), (y_test_one_month_target_probas > 0.5).astype(int))"
      ],
      "execution_count": 615,
      "outputs": [
        {
          "output_type": "execute_result",
          "data": {
            "text/plain": [
              "array([[2460, 1477],\n",
              "       [ 188,  205]])"
            ]
          },
          "metadata": {
            "tags": []
          },
          "execution_count": 615
        }
      ]
    },
    {
      "cell_type": "code",
      "metadata": {
        "id": "lq9YlGpwguaS",
        "colab_type": "code",
        "colab": {
          "base_uri": "https://localhost:8080/",
          "height": 34
        },
        "outputId": "3c224f65-5f08-4c6e-817b-f8580d9e3e19"
      },
      "source": [
        "y_test_one_month_target_probas = model.predict(np.array(X_test_one_month_samples))\n",
        "thresholds = np.arange(0, 1, 0.001)\n",
        "scores = [fbeta_score(y_test_one_month_target, to_labels(y_test_one_month_target_probas, t) , beta=1.7) for t in thresholds]\n",
        "ix = np.argmax(scores)\n",
        "print(f'Best threshold {thresholds[ix]}, best score fbeta {scores[ix]}')"
      ],
      "execution_count": 611,
      "outputs": [
        {
          "output_type": "stream",
          "text": [
            "Best threshold 0.486, best score fbeta 0.3014030006058872\n"
          ],
          "name": "stdout"
        }
      ]
    },
    {
      "cell_type": "code",
      "metadata": {
        "id": "1hw2fMo5hbUN",
        "colab_type": "code",
        "colab": {
          "base_uri": "https://localhost:8080/",
          "height": 51
        },
        "outputId": "3093b736-563f-4f0e-dbfa-b8dac59db31c"
      },
      "source": [
        "confusion_matrix(np.array(y_test_one_month_target), (y_test_one_month_target_probas > thresholds[ix]).astype(int))"
      ],
      "execution_count": 612,
      "outputs": [
        {
          "output_type": "execute_result",
          "data": {
            "text/plain": [
              "array([[ 977, 2960],\n",
              "       [  49,  344]])"
            ]
          },
          "metadata": {
            "tags": []
          },
          "execution_count": 612
        }
      ]
    },
    {
      "cell_type": "code",
      "metadata": {
        "id": "KKYDYrCGhrBw",
        "colab_type": "code",
        "colab": {}
      },
      "source": [
        ""
      ],
      "execution_count": 0,
      "outputs": []
    },
    {
      "cell_type": "code",
      "metadata": {
        "id": "zZa1FOqQhrUI",
        "colab_type": "code",
        "colab": {}
      },
      "source": [
        "#validation"
      ],
      "execution_count": 0,
      "outputs": []
    },
    {
      "cell_type": "code",
      "metadata": {
        "id": "OkMD65Ztapl0",
        "colab_type": "code",
        "colab": {
          "base_uri": "https://localhost:8080/",
          "height": 51
        },
        "outputId": "8274175a-e262-4fb6-fbf5-ee97a1f5d1e0"
      },
      "source": [
        "confusion_matrix(np.array(y_test_target), (model.predict(np.array(X_test_samples)) > 0.5).astype(int))"
      ],
      "execution_count": 603,
      "outputs": [
        {
          "output_type": "execute_result",
          "data": {
            "text/plain": [
              "array([[2451, 1643],\n",
              "       [ 174,  181]])"
            ]
          },
          "metadata": {
            "tags": []
          },
          "execution_count": 603
        }
      ]
    },
    {
      "cell_type": "code",
      "metadata": {
        "id": "S49GSgGrcj_t",
        "colab_type": "code",
        "colab": {
          "base_uri": "https://localhost:8080/",
          "height": 34
        },
        "outputId": "d8ccbc4c-53ab-4e8c-cdce-ea3bd4297da0"
      },
      "source": [
        "fbeta_score(np.array(y_test_target), (model.predict(np.array(X_test_samples)) > 0.5).astype(int), beta=1.71)"
      ],
      "execution_count": 607,
      "outputs": [
        {
          "output_type": "execute_result",
          "data": {
            "text/plain": [
              "0.24816503383669533"
            ]
          },
          "metadata": {
            "tags": []
          },
          "execution_count": 607
        }
      ]
    },
    {
      "cell_type": "code",
      "metadata": {
        "id": "Hi6yEmZ-hJT3",
        "colab_type": "code",
        "colab": {
          "base_uri": "https://localhost:8080/",
          "height": 34
        },
        "outputId": "01c40265-7ac6-4350-ac8d-3da14c61563d"
      },
      "source": [
        "y_test_target_probas = model.predict(np.array(X_test_samples))\n",
        "thresholds = np.arange(0, 1, 0.001)\n",
        "scores = [fbeta_score(y_test_target, to_labels(y_test_target_probas, t) , beta=1.7) for t in thresholds]\n",
        "ix = np.argmax(scores)\n",
        "print(f'Best threshold {thresholds[ix]}, best score fbeta {scores[ix]}')"
      ],
      "execution_count": 613,
      "outputs": [
        {
          "output_type": "stream",
          "text": [
            "Best threshold 0.485, best score fbeta 0.27058255241039514\n"
          ],
          "name": "stdout"
        }
      ]
    },
    {
      "cell_type": "code",
      "metadata": {
        "id": "PihNsR05hszw",
        "colab_type": "code",
        "colab": {
          "base_uri": "https://localhost:8080/",
          "height": 51
        },
        "outputId": "33897c1b-99d9-461f-9aaf-902ebd359cb1"
      },
      "source": [
        "confusion_matrix(np.array(y_test_target), (model.predict(np.array(X_test_samples)) > thresholds[ix]).astype(int))"
      ],
      "execution_count": 614,
      "outputs": [
        {
          "output_type": "execute_result",
          "data": {
            "text/plain": [
              "array([[ 786, 3308],\n",
              "       [  31,  324]])"
            ]
          },
          "metadata": {
            "tags": []
          },
          "execution_count": 614
        }
      ]
    }
  ]
}